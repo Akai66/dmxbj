{
 "cells": [
  {
   "cell_type": "markdown",
   "id": "73f44ec6-e8c5-40d4-a11c-1b0747f90242",
   "metadata": {},
   "source": [
    "# 从 AI 编程认知 AI\n"
   ]
  },
  {
   "cell_type": "markdown",
   "id": "91907569-da5b-48f8-8f3e-6a8df67bb26a",
   "metadata": {},
   "source": [
    "## 💡 这节课会带给你\n"
   ]
  },
  {
   "cell_type": "markdown",
   "id": "ff15586f-b2e0-4c35-93c8-1d77e58b9f63",
   "metadata": {},
   "source": [
    "1. 通过 AI 编程，洞察 AI 的能力本质\n",
    "2. 学习成熟的 AI 产品设计经验\n",
    "3. 了解 AI 编程的原理，触类旁通其它应用场景\n",
    "4. 编程新手：了解十倍提升学习、编码效率的工具（另赠送实操课）\n"
   ]
  },
  {
   "cell_type": "markdown",
   "id": "0b9e13a6-0cb2-4511-83b9-71bc80aa0c11",
   "metadata": {},
   "source": [
    "开始上课！\n"
   ]
  },
  {
   "cell_type": "markdown",
   "id": "85ac5ad6-48df-4a45-b916-ad7d066b69da",
   "metadata": {},
   "source": [
    "## 认知 AI 最好的方式，是天天用\n",
    "\n",
    "问自己两个问题：\n",
    "\n",
    "1. 我时间都消耗在哪里？\n",
    "2. 怎么让 AI 帮我省时间？\n",
    "\n",
    "<div class=\"alert alert-success\">\n",
    "<b>划重点：</b>\n",
    "<ol>\n",
    "<li>凡是重复脑力劳动都可以考虑 AI 化</li>\n",
    "<li>凡是「输入和输出都是文本」的场景，都值得尝试用大模型提效</li>\n",
    "</ol>\n",
    "</div>\n"
   ]
  },
  {
   "cell_type": "markdown",
   "id": "59710675-30b4-4137-a6dd-fa720b204a5b",
   "metadata": {},
   "source": [
    "### 场景\n",
    "\n",
    "其中在软件开发过程中，已验证能明确提效（非代替人）的场景：\n",
    "\n",
    "<table border=\"1\" align=\"left\">\n",
    "    <tr>\n",
    "        <th>阶段</th>\n",
    "        <th>相关岗位</th>\n",
    "        <th>活动</th>\n",
    "    </tr>\n",
    "    <tr>\n",
    "        <td rowspan=\"2\">市场调研</td>\n",
    "        <td>市场分析师</td>\n",
    "        <td>市场调研</td>\n",
    "    </tr>\n",
    "    <tr>\n",
    "        <td>技术经理</td>\n",
    "        <td>技术选型</td>\n",
    "    </tr>\n",
    "    <tr>\n",
    "        <td rowspan=\"3\">需求分析</td>\n",
    "        <td>产品经理</td>\n",
    "        <td>需求分析</td>\n",
    "    </tr>\n",
    "    <tr>\n",
    "        <td>产品经理</td>\n",
    "        <td>PRD 撰写</td>\n",
    "    </tr>\n",
    "    <tr>\n",
    "        <td>产品经理</td>\n",
    "        <td>产品：写用户故事</td>\n",
    "    </tr>\n",
    "    <tr>\n",
    "        <td rowspan=\"4\">设计</td>\n",
    "        <td>UI/UX 设计师</td>\n",
    "        <td>图形元素绘制</td>\n",
    "    </tr>\n",
    "    <tr>\n",
    "        <td>前端开发工程师</td>\n",
    "        <td>从设计图生成代码</td>\n",
    "    </tr>\n",
    "    <tr>\n",
    "        <td>前端/后端开发工程师</td>\n",
    "        <td>API 文档调用</td>\n",
    "    </tr>\n",
    "    <tr>\n",
    "        <td>系统架构师</td>\n",
    "        <td>协议解析</td>\n",
    "    </tr>\n",
    "    <tr>\n",
    "        <td rowspan=\"5\">开发</td>\n",
    "        <td>软件开发工程师</td>\n",
    "        <td>从需求文本生成代码</td>\n",
    "    </tr>\n",
    "    <tr>\n",
    "        <td>软件开发工程师</td>\n",
    "        <td>代码审查</td>\n",
    "    </tr>\n",
    "    <tr>\n",
    "        <td>软件开发工程师</td>\n",
    "        <td>跨语言迁移：将 go 工程迁移成 Java 工程</td>\n",
    "    </tr>\n",
    "    <tr>\n",
    "        <td>软件开发工程师</td>\n",
    "        <td>解读遗留代码</td>\n",
    "    </tr>\n",
    "    <tr>\n",
    "        <td>软件测试工程师</td>\n",
    "        <td>编写测试用例</td>\n",
    "    </tr>\n",
    "    <tr>\n",
    "        <td>运维</td>\n",
    "        <td>运维工程师</td>\n",
    "        <td>运维</td>\n",
    "    </tr>\n",
    "</table>"
   ]
  },
  {
   "cell_type": "markdown",
   "id": "5c186518-9a43-4cc2-a61f-8aee20b2c054",
   "metadata": {},
   "source": [
    "还能显著提效的场景：撰写标书、营销文案、宣传图片、LOGO、商标等等周边场景\n"
   ]
  },
  {
   "cell_type": "markdown",
   "id": "f09f7bd6-353a-4861-8b79-b9c829e73c8b",
   "metadata": {},
   "source": [
    "### 编程开发场景"
   ]
  },
  {
   "cell_type": "markdown",
   "id": "7b8147b5-8673-414a-b16f-044a2855de67",
   "metadata": {},
   "source": [
    "先来看两个例子\n",
    "\n",
    "- AI 编程提效案例一：\n",
    "\n",
    "<img src=\"ai-helper.png\" width=\"400\" />\n",
    "\n",
    "- AI 编程提效案例二：\n",
    "\n",
    "一期会员产品匠人管子的「小蒜头学习工具箱」：https://agiclass.feishu.cn/docx/M5xydPVjWovB9exHBjDc7IMYnub#ONFUdZ4cGoziJexpRkscLhYUnUd\n",
    "\n",
    "- AI 编程从不会到会的案例三：\n",
    "<img src=\"ai_programming_feedback.jpg\" width=\"400\" />\n",
    "  \n",
    "- AI 编程在企业中的应用：\n",
    "\n",
    "<img src=\"codegeex_result.png\" width=\"100%\"/>\n"
   ]
  },
  {
   "cell_type": "markdown",
   "id": "a416267b-48db-4386-a05f-d47f096120b3",
   "metadata": {},
   "source": [
    "\n"
   ]
  },
  {
   "cell_type": "markdown",
   "id": "ae4d477a-23cd-4279-99df-9591f512b921",
   "metadata": {},
   "source": [
    "方法可以简化成一句话：**用 ChatGPT 4, Claude-3.5** 。"
   ]
  },
  {
   "cell_type": "markdown",
   "id": "a75ef215-59bd-4752-9f35-e435cbf2a407",
   "metadata": {
    "jp-MarkdownHeadingCollapsed": true
   },
   "source": [
    "### 使用技巧\n",
    "\n",
    "- 所有 prompt engineering 的技巧都有效，可以把**代码**、**错误信息**、**环境信息**直接粘贴进去\n",
    "- 任何技术相关的问题都可以问，比自己搜索效率高很多\n",
    "- 注意每次问答上下文窗口的大小\n",
    "\n",
    "参考：\n",
    "\n",
    "- [ChatALL](https://chatall.ai) 大量依赖 GPT-4\n",
    "- 过程实录：https://chat.openai.com/share/ecfafa99-aaad-4432-a40c-81c261376758 （对话轮次非常多，加载慢，所以经常 404）\n",
    "- 如果打不开，不需要到群里问，看[这个图](gpt-4-chatall.png)吧\n",
    "\n",
    "但是，落到**写代码**这件事，还有更好的工具。\n"
   ]
  },
  {
   "cell_type": "markdown",
   "id": "c31591a9-c01a-4a0f-8463-ec3bc026d746",
   "metadata": {},
   "source": [
    "## 如何理解 AI 能编写程序\n",
    "\n",
    "**编程能力是大模型各项能力的天花板**\n",
    "\n",
    "- 「编程」是目前大模型能力最强的垂直领域，甚至超越了对「自然语言」本身的处理能力。因为：\n",
    "\n",
    "  - 训练数据质量高\n",
    "  - 结果可衡量\n",
    "  - 编程语言无二义性\n",
    "    \n",
    "### 相关资料\n",
    "  - 有[论文](https://arxiv.org/pdf/2211.09110.pdf)证明编程训练能增强模型的推理能力，所以会特别着意训练 (code-davinci002)\n",
    "    - “The first model that OpenAI gave us was a Python-only model,” Ziegler remembers. “Next we were delivered a JavaScript model and a multilingual model, and it turned out that the Javascript model had particular problems that the multilingual model did not. It actually came as a surprise to us that the multilingual model could perform so well. But each time, the models were just getting better and better, which was really exciting for GitHub Copilot’s progress.” --[Inside GitHub: Working with the LLMs behind GitHub Copilot](https://github.blog/2023-05-17-inside-github-working-with-the-llms-behind-github-copilot/)\n",
    "    - 思考：编程语言是字面意思(literal meaning)相关的么？"
   ]
  },
  {
   "cell_type": "markdown",
   "id": "2cf7cdaf-e8c9-4593-a739-fe265badd25c",
   "metadata": {},
   "source": [
    "- 知道怎么用好 AI 编程，了解它的能力边界、使用场景，就能类比出在其他领域 AI 怎么落地，能力上限在哪\n",
    "  - 此观点是我们原创，在分享过数次后，GitHub 官方发了一篇文章：[How to build an enterprise LLM application: Lessons from GitHub Copilot](https://github.blog/2023-09-06-how-to-build-an-enterprise-llm-application-lessons-from-github-copilot/)。当然，这只是巧合。(这篇文章描述了 GitHub Copilot 的产品打造哲学，非常推荐。)"
   ]
  },
  {
   "cell_type": "markdown",
   "id": "8e89ef7b-2c1f-43d7-9041-de6ffe851e86",
   "metadata": {},
   "source": [
    "所以：\n",
    "\n",
    "<div class=\"alert alert-success\">\n",
    "<b>划重点：</b>\n",
    "<ol>\n",
    "    <li>使用 AI 编程，除了解决编程问题以外，更重要是形成对 AI 的正确认知。</li>\n",
    "    <li>数据质量决定 AI 的质量。</li>\n",
    "</ol>\n",
    "</div>\n"
   ]
  },
  {
   "attachments": {},
   "cell_type": "markdown",
   "id": "c011ecda-974b-46ec-8228-f86bb32d438f",
   "metadata": {},
   "source": [
    "### Copilot 的几个含义\n",
    "\n",
    "<img src=\"./business_arch.webp\" style=\"margin-left: 0px\" width=700px>\n",
    "\n",
    "\n",
    "<div class=\"alert alert-warning\">\n",
    "<b>容易混淆的概念</b>\n",
    "<ul>\n",
    "    <li>Microsoft Copilot：微软的一系列产品，从 Office、Windows、Edge 到 Bing 搜索都标配</li> \n",
    "    <li>GitHub Copilot：GitHub 平台和 OpenAI 合作的编程助手</li>\n",
    "    <li>AI Copilot：产品范式</li>\n",
    "</ul>\n",
    "</div>\n"
   ]
  },
  {
   "cell_type": "markdown",
   "id": "4e83c109-6111-46b4-9273-78656143696d",
   "metadata": {},
   "source": [
    "## GitHub Copilot 介绍\n",
    "\n",
    "[GitHub Copilot](https://github.com/features/copilot) 创造了一个奇迹：\n",
    "\n",
    "**所有竞争对手（Amazon、Google、Meta、阿里巴巴、腾讯等）都是免费的，每月 10-20 美元的 Copilot 仍市占率最高。**\n",
    "\n",
    "不使用它只有一个理由：保密自己的代码。\n",
    "\n",
    "这是一个能提升**幸福感**的工具，随时都有 Aha! 时刻。\n",
    "\n",
    "几个事实：\n",
    "\n",
    "- 2021 年 6 月上线，比 ChatGPT 早近一年半\n",
    "- GitHub 统计：\n",
    "  - 88% 的用户获得效率提升\n",
    "  - 平均 46% 的代码由它完成\n",
    "  - 平均效率提升 55%（网易内部统计 38%，根据需求燃尽图和速度统计得知）\n",
    "- AGI 课堂调研试用到付费转化率：69%\n",
    "- 个人版 10 美元/月，商业版 19 美元/月，企业版 39 美元/月 （打通你的 GitHub 代码库 [Copilot Plan](https://github.com/features/copilot/plans))\n"
   ]
  },
  {
   "cell_type": "markdown",
   "id": "fd6e3dcd-b117-4b1b-b26b-0e248b5262c5",
   "metadata": {},
   "source": [
    "### 安装\n",
    "\n",
    "1. 首先，需要有 GitHub 账号\n",
    "2. 然后，到 https://github.com/settings/copilot 启用\n",
    "3. 最后，安装 IDE 插件，比如\n",
    "   - VSCode: https://marketplace.visualstudio.com/items?itemName=GitHub.copilot\n",
    "   - PyCharm: https://plugins.jetbrains.com/plugin/17718-github-copilot\n",
    "   - Xcode : https://github.com/intitni/CopilotForXcode\n",
    "\n",
    "注意：要全局科学上网才能正常使用\n"
   ]
  },
  {
   "cell_type": "markdown",
   "id": "9f027032-9249-4081-8b60-5f0a69e198f4",
   "metadata": {},
   "source": [
    "### 刷刷写代码\n",
    "\n",
    "Copilot 的使用其实不需要学习……正常写代码，就会收获不断的惊喜。\n",
    "\n",
    "它根据上下文，自动生成建议代码。如果觉得合适，按下 tab 就行了。比如：\n"
   ]
  },
  {
   "cell_type": "markdown",
   "id": "8b89c5ff-9e27-45e7-a841-ce18d35a1b97",
   "metadata": {
    "jp-MarkdownHeadingCollapsed": true
   },
   "source": [
    "#### 完成整个函数\n",
    "\n",
    "![SQL](sql.gif)\n"
   ]
  },
  {
   "cell_type": "markdown",
   "id": "b87ef13d-6c0a-4f3c-bae6-ede5d94c636a",
   "metadata": {},
   "source": [
    "#### 写测试用例\n",
    "\n",
    "![testcase](testcase.gif)\n"
   ]
  },
  {
   "cell_type": "markdown",
   "id": "ae6bd641-1185-4dee-aa0a-2b7bd0610b14",
   "metadata": {},
   "source": [
    "#### 根据注释写代码\n",
    "\n",
    "![comment](comments2code.gif)\n",
    "\n",
    "但这种用法不太推荐，因为注释里针对 AI 而写的 prompt，并不适合人类阅读。\n",
    "\n",
    "如果想从需求生成代码，更推荐后面介绍的「Copilot Chat」 或者直接使用 ChatGPT 4 问答\n"
   ]
  },
  {
   "cell_type": "markdown",
   "id": "c2d1f92f-d5a1-4448-a59d-1cf19468fd3d",
   "metadata": {},
   "source": [
    "#### 一些技巧\n",
    "\n",
    "1. 代码有了，再写注释，更省力\n",
    "2. 改写当前代码，可另起一块新写，AI 补全得更准，完成后再删旧代码\n",
    "3. `Cmd/Ctrl + →` 只接受一个 token\n",
    "4. 如果有旧代码希望被参考，就把代码文件在新 tab 页里打开\n"
   ]
  },
  {
   "cell_type": "markdown",
   "id": "fbe3eab0-97eb-4c0f-b14b-b7f0a4b4460b",
   "metadata": {
    "jp-MarkdownHeadingCollapsed": true
   },
   "source": [
    "### GitHub Copilot Chat\n",
    "\n",
    "- 背后是 GPT-4o\n",
    "\n",
    "官方使用演示：修复一个函数的 Bug\n",
    "\n",
    "<video src=\"Copilot-Chat-Debug-Blog.mp4\" controls=\"controls\" width=\"100%\" height=\"auto\" preload=\"none\"></video>\n",
    "\n",
    "敲「/」可以看到特殊指令：\n",
    "\n",
    "<img src=\"chat-slash.png\" width=\"600px\">\n",
    "\n",
    "VS 中选中要操作的代码，或者光标停留在想插入代码的地方，按 `Cmd/Ctrl + i`，可以内嵌呼出 Copilot chat：\n",
    "\n",
    "<video src=\"CopilotChatVSInlineRefinement.mp4\" controls=\"controls\" width=\"100%\" height=\"auto\" preload=\"none\"></video>\n"
   ]
  },
  {
   "cell_type": "markdown",
   "id": "f450c498-1bc1-4dc9-8d4e-27e377d2d9c1",
   "metadata": {},
   "source": [
    "### 命令行的 Copilot\n",
    "\n",
    "* 先要安装 GitHub CLI：https://cli.github.com/\n",
    "\n",
    "* !第一次使用需要命令行登录: https://github.com/github/gh-copilot\n",
    "```\n",
    "gh auth login --web -h github.com #登录\n",
    "gh extension install github/gh-copilot --force #升级\n",
    "```\n",
    "\n",
    "* 然后：\n",
    "\n",
    "```bash\n",
    "gh copilot suggest 怎样把 python 的 openai 库升级到最新\n",
    "gh copilot explain \"rm -rf /*\"\n",
    "```\n"
   ]
  },
  {
   "cell_type": "markdown",
   "id": "d8b24e64",
   "metadata": {},
   "source": [
    "### 生成 git commit message\n",
    "\n",
    "猜猜入口在哪？\n"
   ]
  },
  {
   "cell_type": "markdown",
   "id": "8792faf8",
   "metadata": {},
   "source": [
    "### GitHub Copilot Extensions\n",
    "\n",
    "[官方介绍 blog](https://github.blog/2024-05-21-introducing-github-copilot-extensions/)\n",
    "\n",
    "把 Copilot Chat 扩展成一套多 agent 的系统：\n",
    "\n",
    "1. 每个 extension 专注做自己最擅长的事情，并自带用户的数据\n",
    "2. 在 Copilot Chat 中，通过 @ 的动作把 agent 串联，就像一场专家会诊\n",
    "3. 可以开发自己的 private extension\n",
    "\n",
    "<img src=\"copilot-extensions.webp\" width=\"600px\">\n",
    "\n",
    "<div class=\"alert alert-success\">\n",
    "<b>产品设计经验：</b>在 chat 界面里用 @ 串联多个 agent 是一个常见的 AI 产品设计范式。\n",
    "</div>\n"
   ]
  },
  {
   "cell_type": "markdown",
   "id": "f13e65c7-27ac-4a7d-a7ec-f7bfb52e7279",
   "metadata": {},
   "source": [
    "### 一些其它使用方式\n",
    "\n",
    "[10 unexpected ways to use GitHub Copilot](https://github.blog/2024-01-22-10-unexpected-ways-to-use-github-copilot/)\n"
   ]
  },
  {
   "cell_type": "markdown",
   "id": "237ea245-8b42-4ea0-a2c8-9fcca8157bb0",
   "metadata": {},
   "source": [
    "### 故事线\n",
    "\n",
    "- 一个小转折：Copilot 从最开始的只用问答，到取消问答使用补全，到恢复问答。\n",
    "\n",
    "<div class=\"alert alert-success\">\n",
    "<b>产品设计经验：</b>让 AI 在不影响用户原有工作习惯的情况下切入使用场景，接受度最高。 \n",
    "</div>\n"
   ]
  },
  {
   "cell_type": "markdown",
   "id": "712e40cd-4a97-4519-86c0-ef2f8cabeb88",
   "metadata": {},
   "source": [
    "## GitHub Copilot 基本原理\n"
   ]
  },
  {
   "cell_type": "markdown",
   "id": "d7bd58b0-32e5-457d-a449-a987cd0b91b8",
   "metadata": {},
   "source": [
    "### 工作原理\n",
    "\n",
    "- 模型层：最初使用 OpenAI Codex 模型，它也是 GPT-3.5、GPT-4 的「一部分」。最新支持模型 GTP-4o。\n",
    "\n",
    "- 应用层： prompt engineering。Prompt 中包含：\n",
    "\n",
    "  1. 组织上下文：光标前和光标后的代码片段\n",
    "  2. 获取代码片段：其它相关代码片段。当前文件和其它打开的同语言文件 tab 里的代码被切成每个 60 行的片段，用 [Jaccard 相似度](https://zh.wikipedia.org/wiki/%E9%9B%85%E5%8D%A1%E5%B0%94%E6%8C%87%E6%95%B0)评分，取高分的\n",
    "     - 为什么是打开的 tabs？\n",
    "     - 多少个 tabs 是有效的呢？经验选择：20 个\n",
    "  3. 修饰相关上下文：被取用的代码片段的路径。用注释的方式插入，例如：`# filepath: foo/bar.py`，或者 `// filepath: foo.bar.js`\n",
    "  4. 优先级：根据一些代码常识判断补全输入内容的优先级\n",
    "  5. 补全格式：在函数定义、类定义、if-else 等之后，会补全整段代码，其它时候只补全当前行\n",
    "\n",
    "  <img src=\"copilot_snippet_structure.webp\" width=\"100%\">\n",
    "\n",
    "- 数据流\n",
    "  ![completion](life-of-a-completion.webp)\n",
    "\n",
    "- 有效性：\n",
    "\n",
    "  - Telemetry(远程遥测[如何取消](https://docs.github.com/en/site-policy/privacy-policies/github-general-privacy-statement))\n",
    "\n",
    "  - A/B Test\n",
    "\n",
    "  - 智谱的度量方式\n",
    "\n",
    "    <img src=\"efficency.png\" width=\"80%\">\n",
    "\n",
    "<div class=\"alert alert-warning\">\n",
    "<b>思考：</b>似乎Github Copilot 在Android Studio等IDE中没有Visual Studio Code好用？\n",
    "</div>\n",
    "\n",
    "### 了解更多\n",
    "\n",
    "- [Inside GitHub: Working with the LLMs behind GitHub Copilot](https://github.blog/2023-05-17-inside-github-working-with-the-llms-behind-github-copilot/)\n",
    "- [How GitHub Copilot is getting better at understanding your code](https://github.blog/2023-05-17-how-github-copilot-is-getting-better-at-understanding-your-code/)\n",
    "- [A developer’s guide to prompt engineering and LLMs](https://github.blog/2023-07-17-prompt-engineering-guide-generative-ai-llms/)\n",
    "- [GitHub Copilot VSCode Extension 逆向工程](https://zhuanlan.zhihu.com/p/639993637)\n",
    "- [GitHub Copilot 深度剖析](https://xie.infoq.cn/article/06aabd93dc757a1015def6857)\n"
   ]
  },
  {
   "cell_type": "markdown",
   "id": "5e07eb26-af92-45e4-83fb-e82084fe8312",
   "metadata": {},
   "source": [
    "## Cursor\n",
    "### 公司介绍\n",
    "* 官网： https://www.cursor.com/\n",
    "* 创始人：Aman Sanger, Arvid Lunnemark, Sualeh Asif and Michael Truell\n",
    "* 创建时间：2021年\n",
    "* 估值： 种子轮-800万美金   A轮-6000美金\n",
    "* 价格： 爱好者-2周免费   专业-20美元/月  商业版-40美元/月\n",
    "\n",
    "### Cursor 和 Copilot的区别\n",
    "* Cursor 是基于 VS Code 的开源版本开发的客户端； Copilot 是 VS Code 的扩展（插件）\n",
    "* Cursor 支持多个模型； Copilot 只能用 GPT-4o\n",
    "\n",
    "<div class=\"alert alert-success\">\n",
    "<b>结论：Cursor 可以兼容 Copilot，所以使用 Cursor就可以了</b> \n",
    "</div>"
   ]
  },
  {
   "cell_type": "markdown",
   "id": "e76cc32a-4133-485f-b7f1-2cdd7b6ab0ad",
   "metadata": {},
   "source": [
    "### Cursor功能介绍\n",
    "1. 聊天\n",
    "\n",
    "<video src=\"videos/cursor/chat.mp4\" controls=\"controls\" width=\"80%\" height=\"auto\" preload=\"none\"></video>\n",
    "\n",
    "2. 对比\n",
    "\n",
    "<video src=\"videos/cursor/cmdkloop2.mp4\" controls=\"controls\" width=\"80%\" height=\"auto\" preload=\"none\"></video>\n",
    "\n",
    "3. 光标预测\n",
    "\n",
    "<video src=\"videos/cursor/cpp-full-video.mp4\" controls=\"controls\" width=\"80%\" height=\"auto\" preload=\"none\"></video>\n",
    "\n",
    "4. 多行编辑\n",
    "5. 截图修复\n",
    "6. 全工程搜索\n",
    "\n",
    "### 值得关注功能\n",
    "1. Diff\n",
    "2. Apply\n",
    "3. Cmd/Ctrl + L  &  Cmd/Ctrl + K\n",
    "\n",
    "### 相关技术原理【猜测】\n",
    "#### 技术点1：提高GPT3.5的编码能力\n",
    "- 先用 GPT4 生成一份 PR 草稿，再用 GPT-3.5 去修复这个草稿中的 diff，再用 3.5 处理修改的内容。 \n",
    " \n",
    "#### 技术点2：Differentiable Search Index\n",
    "- 利用可微分索引 提高对文档的精准查找和关联\n",
    "\n",
    "\n",
    "#### 技术点3：Plan Search\n",
    "\n",
    "<img src=\"plan_search.webp\" width=80%>\n",
    "\n",
    "\n",
    "### 相关文档\n",
    "1. https://mp.weixin.qq.com/s/QWy3hFjsseBaCgEMzOtGRA\n",
    "2. https://hub.baai.ac.cn/view/39681\n",
    "3. https://mp.weixin.qq.com/s/iM2GwTj4vaOqKR_5WkvNkA\n",
    "4. [Planning In Natural Language Improves\n",
    "LLM Search For Code Generation](https://arxiv.org/pdf/2409.03733)\n",
    "5. [Transformer Memory as a\n",
    "Differentiable Search Index](https://arxiv.org/pdf/2202.06991)"
   ]
  },
  {
   "cell_type": "markdown",
   "id": "8f9cac4b-a738-4ae9-83fe-92f965bb33c0",
   "metadata": {},
   "source": [
    "<div class=\"alert alert-success\">\n",
    "<b>结论1：推荐使用Cursor</b> <br>\n",
    "<b>结论2：对用户的交互的深入理解是做好 AI 产品的关键</b>\n",
    "</div>"
   ]
  },
  {
   "cell_type": "markdown",
   "id": "1e5a1dd8-ffc8-4d6e-bc7d-3efedd0cef90",
   "metadata": {},
   "source": [
    "## 还有哪些工具\n",
    "1. [Tongyi Lingma](https://tongyi.aliyun.com/lingma) -- (插件+模型) 代码补全，免费。阿里云相关。\n",
    "2. [CodeGeeX](https://codegeex.cn/) -- (插件+模型)清华智谱制造，CodeGeeX 3 Pro 免费可用\n",
    "3. [Comate](https://comate.baidu.com/zh) -- （插件+模型）百度制造，有免费试用版\n",
    "4. [MarsCode](https://www.marscode.cn/) -- (插件+ 模型+ 云平台）字节出品\n",
    "5. [Bito](https://bito.ai/) - （插件）比 Copilot 还多些创新\n",
    "6. [DevChat](https://www.devchat.ai/) -- （插件) 前端开源，同时卖 GPT 服务\n",
    "7. [Tabnine](https://www.tabnine.com/) - (插件 + 模型) 代码补全，个人基础版免费\n",
    "8. [Amazon CodeWhisperer](https://aws.amazon.com/codewhisperer/) - （模型） 代码补全，免费。AWS 相关的编程能力卓越。其它凑合\n",
    "9. [Zed AI](https://zed.dev/) - （客户端） 开源的可以多人合作，并且支持 Copilot 的编辑器\n",
    "10. [ell](https://github.com/MadcowD/ell) - （客户端） 提出理念，认为提示词也是代码的一部分，对提示词进行版本跟踪"
   ]
  },
  {
   "cell_type": "markdown",
   "id": "42f07993-0ba1-4de7-90bd-c485aeed01c6",
   "metadata": {},
   "source": [
    "## AI 编程有效性度量\n",
    "\n",
    "### 网易\n",
    "\n",
    "- 通过项目完成量和完成度统计\n",
    "- 燃尽图\n",
    "\n",
    "<img src=\"project_finished.png\" width=\"400\">\n",
    "\n",
    "### DevChat\n",
    "\n",
    "<img src=\"info_collection.png\" width=\"400\"></img>\n",
    "\n",
    "<div class=\"alert alert-success\">\n",
    "<b>落地经验：</b>只有可量化的结果，才能说服老板买单\n",
    "</div>\n"
   ]
  },
  {
   "cell_type": "markdown",
   "id": "99778e64-5697-4815-a41f-2bbfc0355b50",
   "metadata": {
    "jp-MarkdownHeadingCollapsed": true
   },
   "source": [
    "## 部署自己的 AI 编程工具\n",
    "\n",
    "\n",
    "### Ollama + Continue \n",
    "- Ollama: https://ollama.com/\n",
    "\n",
    "- Continue: https://www.continue.dev/\n",
    "\n",
    "### 可本机部署的 Tabby\n",
    "\n",
    "Tabby：https://tabby.tabbyml.com/\n",
    "\n",
    "- 全开源\n",
    "- 可以本机部署，也可以独立本地部署\n",
    "- 支持所有开源编程模型\n",
    "\n",
    "### 更多开源编程大模型\n",
    "\n",
    "1. [Code Llama](https://ai.meta.com/blog/code-llama-large-language-model-coding/) - Meta 出品，可能是开源中最强的 （7B、13B、34B、70B）\n",
    "2. [DeepSeek-Coder](https://github.com/deepseek-ai/DeepSeek-Coder) - 深度探索公司出品（1B、5.7B、6.7B、33B）\n",
    "3. [CodeGemma](https://huggingface.co/blog/codegemma) - Google 出品（2B、7B）\n"
   ]
  },
  {
   "cell_type": "markdown",
   "id": "0c4dcbcb-20e6-4786-8480-d7b49a337bc9",
   "metadata": {},
   "source": [
    "## AI 编程的强 Agent 尝试——一些自动编写代码的机器人\n",
    "\n",
    "前面的工具都是帮你编程，而 Agent 是完全代替你编程。甚至做更多……\n",
    "\n",
    "警告：以下介绍的现在都只能玩玩、做技术探讨，还远没到实用的程度。\n"
   ]
  },
  {
   "cell_type": "markdown",
   "id": "8803a247-2082-4763-b8ba-fda0442a5f76",
   "metadata": {},
   "source": [
    "### MetaGPT：多智能体元编程框架\n",
    "\n",
    "https://github.com/geekan/MetaGPT\n",
    "\n",
    "它不只写代码，而且写文档、画图。详见讲座课里 MetaGPT 核心工程师的分享。\n",
    "\n",
    "核心 prompts：https://github.com/geekan/MetaGPT/tree/main/metagpt/prompts\n",
    "\n",
    "评价：\n",
    "\n",
    "- 让 agent 模拟岗位这个思路挺有意思。未来的公司就是人和 agent 混合的，这样的系统架构更匹配公司治理\n",
    "- 所以 MetaGPT 其实是个多 Agent 开发框架，而不是单纯的编程工具\n"
   ]
  },
  {
   "cell_type": "markdown",
   "id": "6ec74f0b-016c-4676-a4e2-abd33a30d7da",
   "metadata": {},
   "source": [
    "### GPT Engineer\n",
    "\n",
    "https://github.com/AntonOsika/gpt-engineer\n",
    "\n",
    "指定您想要它构建的内容，AI 会要求澄清，然后构建它。\n",
    "\n",
    "只需三步操作：\n",
    "\n",
    "```bash\n",
    "pip install gpt-engineer\n",
    "vim prompt\n",
    "gpt-engineer .\n",
    "```\n",
    "\n",
    "核心 prompts：https://github.com/AntonOsika/gpt-engineer/tree/main/gpt_engineer/preprompts\n",
    "\n",
    "一句话评价：什么都能干，所以还什么都干不好。\n",
    "\n",
    "有个专门开发 Web App 的，可用性好一些：https://gptengineer.app/\n"
   ]
  },
  {
   "cell_type": "markdown",
   "id": "68611a3b-83b7-4ad4-9b15-f407cae2a0ac",
   "metadata": {},
   "source": [
    "### Devin\n",
    "\n",
    "主页：https://www.cognition-labs.com/introducing-devin\n",
    "\n",
    "一句话评价：还在内测，存在争议\n"
   ]
  },
  {
   "cell_type": "markdown",
   "id": "7a1cf90a-c29e-42fe-a277-ef9ca2b6ac1a",
   "metadata": {},
   "source": [
    "### GitHub Copilot Workspace\n",
    "\n",
    "主页：https://githubnext.com/projects/copilot-workspace\n",
    "\n",
    "技术预览版，申请使用权需要排队\n",
    "\n",
    "工作流程：\n",
    "\n",
    "1. 从 issue 出发，在 issue 的上下文里工作\n",
    "2. 分析 issue，形成计划，人工调整、确认\n",
    "3. 执行计划，生成代码\n",
    "4. 人工审核、修改代码后，直接提 pull request"
   ]
  },
  {
   "cell_type": "markdown",
   "id": "055d6dcc",
   "metadata": {},
   "source": [
    "### v0\n",
    "\n",
    "主页：https://v0.dev/\n",
    "\n",
    "提需求或传图，生成 React 前端代码\n",
    "\n",
    "一句话评价：一定程度可以代替设计师。可以对话式修改设计\n"
   ]
  },
  {
   "cell_type": "markdown",
   "id": "0b95fe72-3852-4654-ad99-32295716c488",
   "metadata": {},
   "source": [
    "### Melty\n",
    "\n",
    "主页： https://melty.sh/\n",
    "\n",
    "交互式的 Agent的\n",
    "\n",
    "可以通过自然语言完成文件编辑，代码编写"
   ]
  },
  {
   "cell_type": "markdown",
   "id": "1f880008-c3f1-4c77-ac4d-92ac3db55906",
   "metadata": {
    "jp-MarkdownHeadingCollapsed": true
   },
   "source": [
    "<div class=\"alert alert-success\">\n",
    "<b>产品设计经验：</b>步步都需要人工调整、确认\n",
    "</div>"
   ]
  },
  {
   "cell_type": "markdown",
   "id": "5a982cda-072d-4491-a39b-5655c5ff01c0",
   "metadata": {
    "jp-MarkdownHeadingCollapsed": true
   },
   "source": [
    "### Agent 的落地难题\n",
    "\n",
    "<div class=\"alert alert-success\">\n",
    "Agent 落地需要两个条件：\n",
    "<ol>\n",
    "<li>LLM 能力足够强（GPT-4 也不够）</li>\n",
    "<li>使用场景足够窄</li>\n",
    "</ol>\n",
    "<p>GPT-5 没面世之前，别再相信类似 Devin 的媒体渲染了</p>\n",
    "</div>\n",
    "\n",
    "用「把 AI 当人看」来理解：\n",
    "\n",
    "1. 问题越简单，人越容易解决\n",
    "2. 人的能力变更强，就可以解决更复杂问题\n"
   ]
  },
  {
   "cell_type": "markdown",
   "id": "0d6aa2b0-8941-457e-a1f1-9e8e825d468d",
   "metadata": {},
   "source": [
    "## AI 编程的效能\n"
   ]
  },
  {
   "cell_type": "markdown",
   "id": "be6ed3c6-e73a-470e-9d81-3b07e2252053",
   "metadata": {},
   "source": [
    "### AI 幻觉的必然性，和 AI 能力的天花板\n",
    "\n",
    "AI 祖师爷阿兰·图灵 1947 年在[伦敦数学学会的演讲](https://www.vordenker.de/downloads/turing-vorlesung.pdf)上说过：\n",
    "\n",
    "> ...if a machine is expected to be infallible, it cannot also be intelligent.\n",
    "\n",
    "翻译成中文是：\n",
    "\n",
    "> 如果一个机器绝对不会犯错，它就不可能是智能的。\n",
    "\n",
    "拥有类人的智能，就一定和人类一样，说胡话、瞎话、错话，说有争议的话。\n",
    "\n",
    "所以，AI 的幻觉不可完全消除，只能尽可能压制。\n",
    "\n",
    "所以，使用者的判断力，决定了 AI 能力的上限。 就像团队领导，是团队的上限一样。\n",
    "\n",
    "我们原创了两个定律：\n",
    "\n",
    "<div class=\"alert alert-success\">\n",
    "<h4>AI 能力定律：</h4>\n",
    "<p>AI 能力的上限，是使用者的判断力</p>\n",
    "<p>$\\text{AI 能力} = \\min(\\text{AI 能力}, \\text{使用者判断力})$ </p>\n",
    "<h4>AI 提效定律：</h4>\n",
    "<p>AI 提升的效率，与使用者的判断力成正比，与生产力成反比</p>\n",
    "<p>$\\text{效率提升幅度} = \\frac{\\text{使用者判断力}}{\\text{使用者生产力}}$</p>\n",
    "</div>\n",
    "\n",
    "解读：\n",
    "\n",
    "1. 使用者的判断力，是最重要的\n",
    "2. 提升判断力，比提升实操能力更重要。所谓「眼高手低」者的福音\n",
    "3. 广阔的视野是判断力的养料\n"
   ]
  },
  {
   "cell_type": "markdown",
   "id": "43b44750-1348-4bca-9804-f501d25f28e5",
   "metadata": {},
   "source": [
    "#### AI 编程貌似严谨实则疏漏的代码\n"
   ]
  },
  {
   "cell_type": "markdown",
   "id": "b5b4ecbd-c573-40e7-ad6c-229c2f6bdda1",
   "metadata": {},
   "source": [
    "> 请写一个判断输入是否为合法手机号的 JavaScript 正则代码\n"
   ]
  },
  {
   "cell_type": "markdown",
   "id": "2506169f-0a49-436a-967e-678a29d13061",
   "metadata": {},
   "source": [
    "```javascript\n",
    "function isValidPhoneNumber(phoneNumber) {\n",
    "  // 中国大陆的手机号码正则表达式，匹配以1开头，第二位是3-9中的任意一个数字，后面跟着9个数字的模式\n",
    "  const regex = /^1[3-9]\\d{9}$/;\n",
    "  return regex.test(phoneNumber);\n",
    "}\n",
    "\n",
    "// 测试示例\n",
    "console.log(isValidPhoneNumber(\"13800138000\")); // 应该返回 true\n",
    "console.log(isValidPhoneNumber(\"12345678901\")); // 应该返回 false\n",
    "console.log(isValidPhoneNumber(\"14123456780\")); // 应该返回 true  !!!!!\n",
    "```\n"
   ]
  },
  {
   "cell_type": "markdown",
   "id": "a7179b36-1ae3-4206-b19e-728ac689363d",
   "metadata": {},
   "source": [
    "### 趋势\n",
    "\n",
    "[Atom Capital: 1000x 的超级码农——AI 编程的机会和未来\n",
    "](https://mp.weixin.qq.com/s/IE1P-USAJDlbPcssJltNnw)\n",
    "\n",
    "> 在 RAG 方向上建立技术优势，然后转换成更好的产品效果和体验，也成为了一个重要的竞争点。RAG 本身有很高的技术复杂度，而代码领域的 RAG 可能是所有应用领域中最复杂的，会有很多有挑战的子场景需要解决。即使是市占率很高的 GitHub，也很难短时间把大部分问题解决掉，这便给了创业公司机会。\n",
    "\n",
    "AI 编程不仅可以解决自己的问题，内部企业的问题，也是一个巨大的市场。\n",
    "\n",
    "<img src=\"ai-is-eating-the-world.png\" width=\"80%\" height=\"80%\" >"
   ]
  },
  {
   "cell_type": "markdown",
   "id": "556e3774-45cf-4759-911e-832058ff8d75",
   "metadata": {},
   "source": [
    "## AI 编程成为最新热点\n",
    "\n",
    "### 产品趋势\n",
    "<img src=\"writing_code_brands.png\" width=\"80%\" height=\"80%\">\n",
    "https://mp.weixin.qq.com/s/iM2GwTj4vaOqKR_5WkvNkA\n",
    "\n",
    "### 技术趋势\n",
    "#### 训练\n",
    "#### 搜索\n",
    "    - 重采样\n",
    "    - IdeaSearch\n",
    "    - PlanSearch\n",
    "\n",
    "<div class=\"alert alert-success\">\n",
    "<b>结论： 训练 + 搜索的融合\n",
    "</div>\n"
   ]
  },
  {
   "cell_type": "markdown",
   "id": "5ac3afea-465b-42ed-83f3-b7520fdaabd2",
   "metadata": {},
   "source": [
    "### 案例"
   ]
  },
  {
   "cell_type": "markdown",
   "id": "cb9c24f1-31fa-4647-ab33-3a3646be194c",
   "metadata": {
    "jp-MarkdownHeadingCollapsed": true
   },
   "source": [
    "#### 用 AI 学 Python\n",
    "##### 1期学员 葛云飞\n",
    "- https://ai-shifu.com"
   ]
  },
  {
   "cell_type": "markdown",
   "id": "0de5d727-6887-4ee3-bee6-2154acdca8ee",
   "metadata": {},
   "source": [
    "#### AI代码阅读\n",
    "##### 3 期学员 李明宇\n",
    "  \n",
    "- 静态代码分析 +  LLM \n",
    "- https://eagle.ma-li.ai/"
   ]
  },
  {
   "cell_type": "markdown",
   "id": "7d95bdb4-8016-4e24-8432-d62037bf000d",
   "metadata": {},
   "source": [
    "#### AI代码审校\n",
    "##### 5期学员 缪慧灵\n",
    "- 798段代码的漏洞审计，采用qwen2-72B，0-shot，花费约￥10元，时间5小时多点\n",
    "- 答案：完全一致（88%） 正确并有其他内容（6%）；总正确率达到了94%\n",
    "- 4%待定(难以判断)和1%的错误"
   ]
  },
  {
   "cell_type": "markdown",
   "id": "a3d80295-688c-4461-8713-a09937460b15",
   "metadata": {},
   "source": [
    "## 一些 AI 编程的应用实例\n",
    "\n",
    "#### 从设计图生成代码\n",
    "\n",
    "<img src=\"example-ui-programing-with-gpt.png\" width=\"400\" />\n",
    "<img src=\"example-ui-programing-with-gpt-2.png\" width=\"400\"  />\n",
    "\n",
    "- 拐爷的实验 [从 DALL-E 3 接入 ChatGPT 说起](https://mp.weixin.qq.com/s/a1rLZyAS-L-zf9T3Islq4g)\n",
    "\n",
    "#### API 文档调用\n",
    "\n",
    "<img src=\"example-api-programing-with-gpt.png\" width=\"400\" />\n",
    "\n",
    "```java\n",
    "import org.java_websocket.client.WebSocketClient;\n",
    "import org.java_websocket.handshake.ServerHandshake;\n",
    "\n",
    "import java.net.URI;\n",
    "import java.net.URISyntaxException;\n",
    "\n",
    "public class BinanceWebSocketClient {\n",
    "\n",
    "    public static void main(String[] args) {\n",
    "        try {\n",
    "            // 创建WebSocket客户端，连接到Binance US的WebSocket服务器\n",
    "            // 此例子中使用BTC/USD交易对的深度快照数据流\n",
    "            String marketSymbol = \"btcusd\"; // 这里可以根据需要订阅不同的交易对\n",
    "            WebSocketClient client = new WebSocketClient(new URI(\"wss://stream.binance.us:9443/ws/\" + marketSymbol + \"@depth\")) {\n",
    "\n",
    "                @Override\n",
    "                public void onOpen(ServerHandshake handshakedata) {\n",
    "                    System.out.println(\"WebSocket连接成功\");\n",
    "                }\n",
    "\n",
    "                @Override\n",
    "                public void onMessage(String message) {\n",
    "                    // 处理接收到的消息\n",
    "                    System.out.println(\"接收到的消息: \" + message);\n",
    "                }\n",
    "\n",
    "                @Override\n",
    "                public void onClose(int code, String reason, boolean remote) {\n",
    "                    System.out.println(\"WebSocket连接关闭\");\n",
    "                }\n",
    "\n",
    "                @Override\n",
    "                public void onError(Exception ex) {\n",
    "                    ex.printStackTrace();\n",
    "                }\n",
    "            };\n",
    "\n",
    "            client.connect();\n",
    "        } catch (URISyntaxException e) {\n",
    "            e.printStackTrace();\n",
    "        }\n",
    "    }\n",
    "}\n",
    "```\n",
    "\n",
    "### 协议解析\n",
    "\n",
    "<img src=\"proto_parse@2x.png\" width=\"100%\" height=\"100%\" />\n",
    "\n",
    "根据协议文档解析以上的 websocket 报文\n",
    "\n",
    "提示词如下：\n",
    "\n",
    "```bash\n",
    "<head>\n",
    "横向表格，这是所有协议的头\n",
    "起始域\t长度域\t信息域\t序列号域\t命令代 CMD\t数据域\t校验和域\n",
    "2 (字节)\t2 (字节)\t1 (字节)\t1 (字节)\t2 (字节)\tN (字节)\t1 (字节)\n",
    "0xAA0xF5\t0～0x8000\t0x10\t0～0xFF\t消息类型\t参考说明\t后 8 位\n",
    "</head>\n",
    "\n",
    "<cmd>\n",
    "纵向表格，每行是一个属性\n",
    "CMD为8 的协议格式\n",
    "序号\t字段定义\t长度（字节)\t说明\n",
    "1\t预留\t2\t预留\n",
    "2\t预留\t2\t预留\n",
    "3*\t充电桩编码\t32\tASCII 编码\n",
    "4*\t充电枪口\t1\t同服务发送枪口\n",
    "5*\t命令执行结果\t4\t0 表示成功，其它失败含义见附录 3\n",
    "6\t充电流水号\t32\t按命令 7 的字段 13 回复\n",
    "</cmd>\n",
    "\n",
    "\n",
    "<example>\n",
    "\n",
    "\t指令：8\n",
    "\t报文：aaf552000204080000000000454e3230323131323031303900000000000000000000000000000000000000000200000000313030303030353338370000000000000000000000000000000000000000000087\n",
    "\t内容：充电桩编码=EN2021120109,充电枪口=2,命令执行结果=0,流水号=1000005387\n",
    "\n",
    "\t指令：8\n",
    "\t报文：aaf552000236080000000000454e3230323131323031313000000000000000000000000000000000000000000200000000313030303030353338380000000000000000000000000000000000000000000080\n",
    "\t内容：充电桩编码=EN2021120110,充电枪口=2,命令执行结果=0,流水号=1000005388\n",
    "\n",
    "\t指令：8\n",
    "\t报文：aaf55200020a080000000000454e323032313132303131310000000000000000000000000000000000000000010000000031303030303035333836000000000000000000000000000000000000000000007e\n",
    "\t内容：充电桩编码=EN2021120111,充电枪口=1,命令执行结果=0,流水号=1000005386\n",
    "\n",
    "</example>\n",
    "\n",
    "根据以上的内容 {head} {cmd} {example} 对应的内容，对于\n",
    "<test> \t初级：解析指令8以下报文：\n",
    "\t报文：aaf552000234080000000000454e323032313132303131300000000000000000000000000000000000000000010000000031303030303035333835000000000000000000000000000000000000000000007c</test>\n",
    "请返回对应的'内容'是什么?\n",
    "```\n",
    "\n",
    "#### 思考题：\n",
    "\n",
    "```bash\n",
    "训练指令\n",
    "\t指令：104\n",
    "\t报文：aaf5f900023d680000000000454e323032313132303131310000000000000000000000000000000000000000020201000075000000000000000032000000000000000000000000000000000000000000000000000000000000000000000000000090250400a925040001000000000000000000000000000000000000000000000000000000000000000000000000000000000000000000000000000000804f12000000000010270000f401000058340000324f4d000000000000000000000000000000000000000000000000000000000000000000000000000000000000000000000000000000000000000000000000000000000000000085\n",
    "\t内容：startConId=2, conType=1, workStatus=0, soc=0, warning=117, joinStatus=0, totalMoney=0, voltageDc=0, dc=0, bmsVoltageDC=0, bmsDC=0, bmsChargeStatus=0, av=0, bv=0, cv=0, ai=0, bi=0, ci=0, remainChargeTime=0, chargeTime=0, kwh=0, meterReadingBeforeCharging=271760, currentMeterReading=271785, startStatus=1, chargingStrategy=0, chargingStrategyParam=0, reservationMark=0, cardNum=, reservationTimeout=0, startTime=00000000000000, cardBalanceBeforeCharging=0, ratedW=1200000, w=0, maxV=10000, minV=500, maxI=13400, exitC=50, envC=79, conC=77, vin=, doorCondition=0, orderSn=, totalCharge=0, totalServiceMoney=0, conChargeStatus=0, packingLockStatus=0, kwhStatus=0, electricityMeter=0, chargeStrategy=0, inStatus=0, conNumV=2, pipeSnV=EN2021120111, hardwareErrorDesc=null, entryC=50\n",
    "\n",
    "\t指令：104\n",
    "\t报文：aaf5f900023c680000000000454e3230323131323031313100000000000000000000000000000000000000000201010000750000000000000000320000000000000000000000000000000000000000000000000000000000000000000000000000a63b05005a40050001000000000000000000000000000000000000000000000000000000000000000000000000000000000000000000000000000000804f12000000000010270000f401000058340000324f4d00000000000000000000000000000000000000000000000000000000000000000000000000000000000000000000000000000000000000000000000000000000000000007e\n",
    "\t内容：startConId=1, conType=1, workStatus=0, soc=0, warning=117, joinStatus=0, totalMoney=0, voltageDc=0, dc=0, bmsVoltageDC=0, bmsDC=0, bmsChargeStatus=0, av=0, bv=0, cv=0, ai=0, bi=0, ci=0, remainChargeTime=0, chargeTime=0, kwh=0, meterReadingBeforeCharging=342950, currentMeterReading=344154, startStatus=1, chargingStrategy=0, chargingStrategyParam=0, reservationMark=0, cardNum=, reservationTimeout=0, startTime=00000000000000, cardBalanceBeforeCharging=0, ratedW=1200000, w=0, maxV=10000, minV=500, maxI=13400, exitC=50, envC=79, conC=77, vin=, doorCondition=0, orderSn=, totalCharge=0, totalServiceMoney=0, conChargeStatus=0, packingLockStatus=0, kwhStatus=0, electricityMeter=0, chargeStrategy=0, inStatus=0, conNumV=2, pipeSnV=EN2021120111, hardwareErrorDesc=null, entryC=50\n",
    "\n",
    "\t指令：104\n",
    "\t报文：aaf5f900022c680000000000454e3230323131323031303900000000000000000000000000000000000000000202010300750000000000000000320000000000000000000000000000000000000000000000000000000000000000000000000000f0f21300a904140001000000000000000000000000000000000000000000000000000000000000000000000000000000000000000000000000000000804f12000000000010270000f40100005834000032504d0000000000000000000000000000000000000000000000000000000000000000000000000000000000000000000000000000000000000000000000000000000000000000bb\n",
    "\t内容：?\n",
    "```\n",
    "\n",
    "解答技巧：\n",
    "\n",
    "1. 内容是有规律的\n",
    "2. 内容有参考格式说明\n"
   ]
  },
  {
   "cell_type": "markdown",
   "id": "59af69a7-058f-4382-8f85-425ee3c37ced",
   "metadata": {},
   "source": [
    "# 讨论：认知AI到底要认知什么？\n",
    "* AI的三个学派\n",
    "  - 符号主义：又称逻辑主义，核心是使用数理逻辑，代表系统：专家系统\n",
    "  - 连接主义：又称仿生学派，核心是人工神经网络，代表系统：大模型\n",
    "  - 行为主义：又称控制论学派，核心是自适应，自学习，强化学习，代表系统：波斯顿机器狗"
   ]
  },
  {
   "cell_type": "markdown",
   "id": "386c788a-15d0-4b74-99f9-399d64bcdcd3",
   "metadata": {},
   "source": [
    "* AI产品经理：什么是AI产品经理、怎么样才算是一个合格的AI产品经理？"
   ]
  },
  {
   "cell_type": "markdown",
   "id": "073ecd1d-ea6c-48d2-9286-0aaa1004af70",
   "metadata": {},
   "source": [
    "* AI人应该具备哪些日常？"
   ]
  },
  {
   "cell_type": "markdown",
   "id": "b517e469-5edb-4cf7-96ac-325b2795b5d2",
   "metadata": {},
   "source": []
  },
  {
   "cell_type": "markdown",
   "id": "5b54897d-e11d-46ca-9553-2e42d860488e",
   "metadata": {},
   "source": [
    "# 不管是个人还是企业，都能借用 AI 提效\n"
   ]
  },
  {
   "cell_type": "markdown",
   "id": "08242f54-dc17-4e95-816a-fa7af1974cb6",
   "metadata": {},
   "source": [
    "<div class=\"alert alert-success\">\n",
    "<b>要点总结：</b>\n",
    "<ol>\n",
    "<li>通过天天使用，总结使用大模型的规律，认知：<b>凡是「输入和输出都是文本」的场景，都值得尝试用大模型提效。</b></li>\n",
    "<li>通过体验 GitHub Copilot，认知：<b>AI 产品的打磨过程、落地和目前盈利产品如何打造</b></li>\n",
    "<li>通过介绍原理，认知：<b>AI 目前的上限，以及 AI 组织数据和达到上限的条件</b></li>\n",
    "<li>通过对比 GitHub Copilot 和 Cursor 产品，认知： <b>交互和准确感知用户的操作非常重要</b> </li>\n",
    "<li>对于 AI 产品如何反馈有效性，认知：<b> AI 产品落地的有效性管理方法</b></li>\n",
    "<li>通过介绍两大定律，认知：<b>AI 幻觉不可消灭； AI 的能效；</b></li>\n",
    "</ol>\n",
    "<b> 以成功案例为例，理解基本原理，避免拍脑袋 </b>\n",
    "</div>\n"
   ]
  },
  {
   "cell_type": "markdown",
   "id": "6eb42a27-adc7-472d-b587-d1908eaf88cc",
   "metadata": {},
   "source": [
    "# 实操课课件\n",
    "\n",
    "- [5 期：AI 编程工具与演示笔记](https://agiclass.feishu.cn/docx/ClrVddclboshICxgMmgcOggMnU3)\n",
    "- [6 期：AI 编程工具与演示笔记](https://agiclass.feishu.cn/docx/FQG5dbeCqo4UjAxXKgucrWmgn9f)\n",
    "- [7 期：AI 编程工具与演示笔记](https://agiclass.feishu.cn/docx/CVSSdwjctonP6QxRraocBRSpnkg)\n",
    "- 时间：<b>9 月 14 日 19:00-22:30</b>\n",
    "- 大纲：\n",
    "  - Cursor 编程工具安装介绍\n",
    "  - Ollama + Continue 搭建本地\n",
    "  - 在 Cursor 中用 AI 编程写一个 ChatBot 前后端\n",
    "  - 随机问题用 AI 编程实现\n",
    "- 要求：安装Cursor、Python\n"
   ]
  },
  {
   "cell_type": "markdown",
   "id": "9da13241-4bf2-4183-a83f-e43142209a62",
   "metadata": {},
   "source": [
    "## 彩蛋\n",
    "\n",
    "Copilot 白嫖指南：\n",
    "\n",
    "- 参与开源项目，可免费使用。[ChatALL](https://chatall.ai) 随时欢迎大家参与\n",
    "- 在校生，免费使用。[在此申请](https://docs.github.com/en/education/explore-the-benefits-of-teaching-and-learning-with-github-education/github-global-campus-for-students/apply-to-github-global-campus-as-a-student)\n"
   ]
  },
  {
   "cell_type": "markdown",
   "id": "9ba7a935-2263-4d9c-903c-73bd763b0d5b",
   "metadata": {},
   "source": [
    "## 作业\n",
    "\n",
    "- **思考你的\"AI 编程\"** 产品\n",
    "- 想好问题周六怎么虐林老师\n",
    "\n",
    "<div class=\"alert alert-success\">\n",
    "开始使用 AI 编程，把 Aha! 时刻分享到群\n",
    "</div>\n"
   ]
  },
  {
   "cell_type": "code",
   "execution_count": null,
   "id": "8c7bbf24-dd2f-4d2b-93a8-2a89ad0c438d",
   "metadata": {},
   "outputs": [],
   "source": []
  }
 ],
 "metadata": {
  "kernelspec": {
   "display_name": "Python 3 (ipykernel)",
   "language": "python",
   "name": "python3"
  },
  "language_info": {
   "codemirror_mode": {
    "name": "ipython",
    "version": 3
   },
   "file_extension": ".py",
   "mimetype": "text/x-python",
   "name": "python",
   "nbconvert_exporter": "python",
   "pygments_lexer": "ipython3",
   "version": "3.11.9"
  }
 },
 "nbformat": 4,
 "nbformat_minor": 5
}
