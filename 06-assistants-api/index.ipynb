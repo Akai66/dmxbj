{
 "cells": [
  {
   "cell_type": "markdown",
   "metadata": {},
   "source": [
    "# Assistants API\n",
    "\n",
    "## 💡 这节课会带给你\n",
    "\n",
    "1. 原生 API、GPTs 和 Assistants API 的适用场景\n",
    "2. 用 Assistants API 做一个 GPT\n",
    "\n",
    "开始上课！\n"
   ]
  },
  {
   "cell_type": "markdown",
   "metadata": {},
   "source": [
    "## 🎓 这节课怎么学\n",
    "\n",
    "代码能力要求：**中低**，AI/数学基础要求：**无**\n",
    "\n",
    "1. 有编程基础的同学\n",
    "   - 关注代码实现细节、应用场景\n",
    "2. 没有编程基础的同学\n",
    "   - 关注 OpenAI 提供的能力和产品形态，多思考为什么/有什么优缺点\n"
   ]
  },
  {
   "cell_type": "markdown",
   "metadata": {},
   "source": [
    "## 前言\n",
    "\n",
    "### 0.1、从轰动一时的 OpenAI DevDay 说起\n",
    "\n",
    "2023 年 11 月 6 日，OpenAI DevDay 发表了一系列新能力，其中包括：**GPT Store** 和 **Assistants API**\n",
    "\n",
    "<img src=\"dawn_of_gpts.jpg\" width=600px>\n",
    "\n",
    "这一波操作一度被认为是创业公司终结者\n",
    "\n",
    "<img src=\"post.jpg\" width=600px>\n"
   ]
  },
  {
   "cell_type": "markdown",
   "metadata": {},
   "source": [
    "### 0.2、GPTs 和 Assistants API 本质是降低开发门槛\n",
    "\n",
    "可操控性和易用性之间的权衡与折中：\n",
    "\n",
    "1. 更多技术路线选择：原生 API、GPTs 和 Assistants API\n",
    "2. GPTs 的示范，起到教育客户的作用，有助于打开市场\n",
    "3. 要更大自由度，需要用 Assistants API 开发\n",
    "4. 想极致调优，还得原生 API + RAG"
   ]
  },
  {
   "cell_type": "markdown",
   "metadata": {},
   "source": [
    "### 0.3、Assistants API 的主要能力\n",
    "\n",
    "1. 创建和管理 assistant，每个 assistant 有独立的配置\n",
    "2. 支持无限长的多轮对话，对话历史保存在 OpenAI 的服务器上\n",
    "3. 通过自有向量数据库支持基于文件的 RAG\n",
    "4. 支持 Code Interpreter\n",
    "   1. 在沙箱里编写并运行 Python 代码\n",
    "   2. 自我修正代码\n",
    "   3. 可传文件给 Code Interpreter\n",
    "5. 支持 Function Calling\n",
    "6. 支持在线调试的 Playground\n",
    "\n",
    "\n",
    "收费：\n",
    "\n",
    "1. 按 token 收费。无论多轮对话，还是 RAG，所有都按实际消耗的 token 收费\n",
    "2. 如果对话历史过多超过大模型上下文窗口，会自动放弃最老的对话消息\n",
    "3. 文件按数据大小和存放时长收费。1 GB **向量存储** 一天收费 0.10 美元\n",
    "4. Code interpreter 跑一次 $0.03\n"
   ]
  },
  {
   "cell_type": "markdown",
   "metadata": {},
   "source": [
    "## 一、GPT Store：创建自己的 GPT\n",
    "\n",
    "<img src=\"create_gpt.png\" width=800px />\n",
    "\n",
    "<img src=\"gpt.png\" width=800px />\n",
    "\n",
    "发布链接：https://chat.openai.com/g/g-iU8hVr4jR-wo-de-demogpt\n"
   ]
  },
  {
   "cell_type": "markdown",
   "metadata": {},
   "source": [
    "## 二、Assistants API\n"
   ]
  },
  {
   "cell_type": "code",
   "execution_count": null,
   "metadata": {},
   "outputs": [],
   "source": [
    "!pip install --upgrade openai"
   ]
  },
  {
   "cell_type": "code",
   "execution_count": 4,
   "metadata": {},
   "outputs": [],
   "source": [
    "from openai import OpenAI\n",
    "client = OpenAI()\n",
    "\n",
    "ids = []\n",
    "assistants = client.beta.assistants.list()\n",
    "for assistant in assistants:\n",
    "    ids.append(assistant.id)\n",
    "# 清理一下教学环境\n",
    "for id in ids:\n",
    "    client.beta.assistants.delete(id)"
   ]
  },
  {
   "cell_type": "markdown",
   "metadata": {},
   "source": [
    "### 2.1、创建一个 Assistant\n",
    "\n",
    "可以为每个应用，甚至应用中的每个有对话历史的使用场景，创建一个 assistant。\n",
    "\n",
    "虽然可以用代码创建，也不复杂，例如：\n",
    "\n",
    "```python\n",
    "from openai import OpenAI\n",
    "\n",
    "# 初始化 OpenAI 服务\n",
    "client = OpenAI()\n",
    "\n",
    "# 创建助手\n",
    "assistant = client.beta.assistants.create(\n",
    "    name=\"AGIClass Demo\",\n",
    "    instructions=\"你叫瓜瓜，你是AGI课堂的智能助理。你负责回答与AGI课堂有关的问题。\",\n",
    "    model=\"gpt-4o\",\n",
    ")\n",
    "```\n",
    "\n",
    "但是，更佳做法是，到 [Playground](https://platform.openai.com/playground?mode=assistant) 在线创建，因为：\n",
    "\n",
    "1. 更方便调整\n",
    "2. 更方便测试\n"
   ]
  },
  {
   "cell_type": "code",
   "execution_count": 1,
   "metadata": {},
   "outputs": [
    {
     "name": "stdout",
     "output_type": "stream",
     "text": [
      "asst_xi4KvqarumvNarFA2jdwmzkb\n"
     ]
    }
   ],
   "source": [
    "from openai import OpenAI\n",
    "\n",
    "# 初始化 OpenAI 服务\n",
    "client = OpenAI()\n",
    "\n",
    "# 创建助手\n",
    "assistant = client.beta.assistants.create(\n",
    "    name=\"AGIClass Demo TempLive\",\n",
    "    instructions=\"你叫瓜瓜，你是AGI课堂的智能助理。你负责回答与AGI课堂有关的问题。\",\n",
    "    model=\"gpt-4o\",\n",
    ")\n",
    "\n",
    "print(assistant.id)"
   ]
  },
  {
   "cell_type": "markdown",
   "metadata": {},
   "source": [
    "### 2.2、样例 Assistant 的配置\n",
    "\n",
    "Instructions:\n",
    "\n",
    "```\n",
    "你叫瓜瓜。你是AGI课堂的助手。你只回答跟AI大模型有关的问题。不要跟学生闲聊。每次回答问题前，你要拆解问题并输出一步一步的思考过程。\n",
    "```\n",
    "\n",
    "Functions:\n",
    "\n",
    "```JSON\n",
    "{\n",
    "  \"name\": \"ask_database\",\n",
    "  \"description\": \"Use this function to answer user questions about course schedule. Output should be a fully formed SQL query.\",\n",
    "  \"parameters\": {\n",
    "    \"type\": \"object\",\n",
    "    \"properties\": {\n",
    "      \"query\": {\n",
    "        \"type\": \"string\",\n",
    "        \"description\": \"SQL query extracting info to answer the user's question.\\nSQL should be written using this database schema:\\n\\nCREATE TABLE Courses (\\n\\tid INT AUTO_INCREMENT PRIMARY KEY,\\n\\tcourse_date DATE NOT NULL,\\n\\tstart_time TIME NOT NULL,\\n\\tend_time TIME NOT NULL,\\n\\tcourse_name VARCHAR(255) NOT NULL,\\n\\tinstructor VARCHAR(255) NOT NULL\\n);\\n\\nThe query should be returned in plain text, not in JSON.\\nThe query should only contain grammars supported by SQLite.\"\n",
    "      }\n",
    "    },\n",
    "    \"required\": [\n",
    "      \"query\"\n",
    "    ]\n",
    "  }\n",
    "}\n",
    "```\n"
   ]
  },
  {
   "cell_type": "markdown",
   "metadata": {},
   "source": [
    "上传文件:\n",
    "\n",
    "[《AI ⼤模型全栈⼯程师培养计划》](./agiclass_intro.pdf)\n"
   ]
  },
  {
   "cell_type": "markdown",
   "metadata": {},
   "source": [
    "## 三、代码访问 Assistant\n"
   ]
  },
  {
   "cell_type": "markdown",
   "metadata": {},
   "source": [
    "### 3.1、管理 thread\n",
    "\n",
    "Threads：\n",
    "\n",
    "1. Threads 里保存的是对话历史，即 messages\n",
    "2. 一个 assistant 可以有多个 thread\n",
    "3. 一个 thread 可以有无限条 message\n",
    "4. 一个用户与 assistant 的多轮对话历史可以维护在一个 thread 里\n"
   ]
  },
  {
   "cell_type": "code",
   "execution_count": 5,
   "metadata": {},
   "outputs": [],
   "source": [
    "import json\n",
    "\n",
    "\n",
    "def show_json(obj):\n",
    "    \"\"\"把任意对象用排版美观的 JSON 格式打印出来\"\"\"\n",
    "    print(json.dumps(\n",
    "        json.loads(obj.model_dump_json()),\n",
    "        indent=4,\n",
    "        ensure_ascii=False\n",
    "    ))"
   ]
  },
  {
   "cell_type": "code",
   "execution_count": 7,
   "metadata": {},
   "outputs": [
    {
     "name": "stdout",
     "output_type": "stream",
     "text": [
      "{\n",
      "    \"id\": \"thread_5EP077dOgvXyJQkbCnbn249q\",\n",
      "    \"created_at\": 1727162907,\n",
      "    \"metadata\": {},\n",
      "    \"object\": \"thread\",\n",
      "    \"tool_resources\": {\n",
      "        \"code_interpreter\": null,\n",
      "        \"file_search\": null\n",
      "    }\n",
      "}\n"
     ]
    }
   ],
   "source": [
    "from openai import OpenAI\n",
    "import os\n",
    "\n",
    "from dotenv import load_dotenv, find_dotenv\n",
    "_ = load_dotenv(find_dotenv())\n",
    "\n",
    "# 初始化 OpenAI 服务\n",
    "client = OpenAI()   # openai >= 1.3.0 起，OPENAI_API_KEY 和 OPENAI_BASE_URL 会被默认使用\n",
    "\n",
    "# 创建 thread\n",
    "thread = client.beta.threads.create()\n",
    "show_json(thread)"
   ]
  },
  {
   "cell_type": "markdown",
   "metadata": {},
   "source": [
    "可以根据需要，自定义 `metadata`，比如创建 thread 时，把 thread 归属的用户信息存入。\n"
   ]
  },
  {
   "cell_type": "code",
   "execution_count": 8,
   "metadata": {},
   "outputs": [
    {
     "name": "stdout",
     "output_type": "stream",
     "text": [
      "{\n",
      "    \"id\": \"thread_RWfx9UJ02xTLIfcLQjaxKGeq\",\n",
      "    \"created_at\": 1727162914,\n",
      "    \"metadata\": {\n",
      "        \"fullname\": \"王卓然\",\n",
      "        \"username\": \"wzr\"\n",
      "    },\n",
      "    \"object\": \"thread\",\n",
      "    \"tool_resources\": {\n",
      "        \"code_interpreter\": null,\n",
      "        \"file_search\": null\n",
      "    }\n",
      "}\n"
     ]
    }
   ],
   "source": [
    "thread = client.beta.threads.create(\n",
    "    metadata={\"fullname\": \"王卓然\", \"username\": \"wzr\"}\n",
    ")\n",
    "show_json(thread)"
   ]
  },
  {
   "cell_type": "markdown",
   "metadata": {},
   "source": [
    "Thread ID 如果保存下来，是可以在下次运行时继续对话的。\n",
    "\n",
    "从 thread ID 获取 thread 对象的代码：\n"
   ]
  },
  {
   "cell_type": "code",
   "execution_count": 9,
   "metadata": {},
   "outputs": [
    {
     "name": "stdout",
     "output_type": "stream",
     "text": [
      "{\n",
      "    \"id\": \"thread_RWfx9UJ02xTLIfcLQjaxKGeq\",\n",
      "    \"created_at\": 1727162914,\n",
      "    \"metadata\": {\n",
      "        \"fullname\": \"王卓然\",\n",
      "        \"username\": \"wzr\"\n",
      "    },\n",
      "    \"object\": \"thread\",\n",
      "    \"tool_resources\": {\n",
      "        \"code_interpreter\": {\n",
      "            \"file_ids\": []\n",
      "        },\n",
      "        \"file_search\": null\n",
      "    }\n",
      "}\n"
     ]
    }
   ],
   "source": [
    "thread = client.beta.threads.retrieve(thread.id)\n",
    "show_json(thread)"
   ]
  },
  {
   "cell_type": "markdown",
   "metadata": {},
   "source": [
    "此外，还有：\n",
    "\n",
    "1. `threads.modify()` 修改 thread 的 `metadata` 和 `tool_resources`\n",
    "2. `threads.retrieve()` 获取 thread\n",
    "3. `threads.delete()` 删除 thread。\n",
    "\n",
    "具体文档参考：https://platform.openai.com/docs/api-reference/threads\n"
   ]
  },
  {
   "cell_type": "markdown",
   "metadata": {},
   "source": [
    "### 3.2、给 Threads 添加 Messages\n",
    "\n",
    "这里的 messages 结构要复杂一些：\n",
    "\n",
    "1.  不仅有文本，还可以有图片和文件\n",
    "2.  也有 `metadata`\n"
   ]
  },
  {
   "cell_type": "code",
   "execution_count": 10,
   "metadata": {},
   "outputs": [
    {
     "name": "stdout",
     "output_type": "stream",
     "text": [
      "{\n",
      "    \"id\": \"msg_tAwvyU6eCPuQGDZRYyyARTMK\",\n",
      "    \"assistant_id\": null,\n",
      "    \"attachments\": [],\n",
      "    \"completed_at\": null,\n",
      "    \"content\": [\n",
      "        {\n",
      "            \"text\": {\n",
      "                \"annotations\": [],\n",
      "                \"value\": \"你都能做什么？\"\n",
      "            },\n",
      "            \"type\": \"text\"\n",
      "        }\n",
      "    ],\n",
      "    \"created_at\": 1727162927,\n",
      "    \"incomplete_at\": null,\n",
      "    \"incomplete_details\": null,\n",
      "    \"metadata\": {},\n",
      "    \"object\": \"thread.message\",\n",
      "    \"role\": \"user\",\n",
      "    \"run_id\": null,\n",
      "    \"status\": null,\n",
      "    \"thread_id\": \"thread_RWfx9UJ02xTLIfcLQjaxKGeq\"\n",
      "}\n"
     ]
    }
   ],
   "source": [
    "message = client.beta.threads.messages.create(\n",
    "    thread_id=thread.id,  # message 必须归属于一个 thread\n",
    "    role=\"user\",          # 取值是 user 或者 assistant。但 assistant 消息会被自动加入，我们一般不需要自己构造\n",
    "    content=\"你都能做什么？\",\n",
    ")\n",
    "show_json(message)"
   ]
  },
  {
   "cell_type": "markdown",
   "metadata": {},
   "source": [
    "还有如下函数：\n",
    "\n",
    "1. `threads.messages.retrieve()` 获取 message\n",
    "2. `threads.messages.update()` 更新 message 的 `metadata`\n",
    "3. `threads.messages.list()` 列出给定 thread 下的所有 messages\n",
    "\n",
    "具体文档参考：https://platform.openai.com/docs/api-reference/messages\n"
   ]
  },
  {
   "cell_type": "markdown",
   "metadata": {},
   "source": [
    "也可以在创建 thread 同时初始化一个 message 列表\n"
   ]
  },
  {
   "cell_type": "code",
   "execution_count": 11,
   "metadata": {},
   "outputs": [
    {
     "name": "stdout",
     "output_type": "stream",
     "text": [
      "{\n",
      "    \"id\": \"thread_zMhTH0RtT7QFkHXQZeEMUMOh\",\n",
      "    \"created_at\": 1727162936,\n",
      "    \"metadata\": {},\n",
      "    \"object\": \"thread\",\n",
      "    \"tool_resources\": {\n",
      "        \"code_interpreter\": null,\n",
      "        \"file_search\": null\n",
      "    }\n",
      "}\n",
      "-----\n",
      "{\n",
      "    \"data\": [\n",
      "        {\n",
      "            \"id\": \"msg_bcCprHQl7OGxgZudyc5F9how\",\n",
      "            \"assistant_id\": null,\n",
      "            \"attachments\": [],\n",
      "            \"completed_at\": null,\n",
      "            \"content\": [\n",
      "                {\n",
      "                    \"text\": {\n",
      "                        \"annotations\": [],\n",
      "                        \"value\": \"你是谁？\"\n",
      "                    },\n",
      "                    \"type\": \"text\"\n",
      "                }\n",
      "            ],\n",
      "            \"created_at\": 1727162936,\n",
      "            \"incomplete_at\": null,\n",
      "            \"incomplete_details\": null,\n",
      "            \"metadata\": {},\n",
      "            \"object\": \"thread.message\",\n",
      "            \"role\": \"user\",\n",
      "            \"run_id\": null,\n",
      "            \"status\": null,\n",
      "            \"thread_id\": \"thread_zMhTH0RtT7QFkHXQZeEMUMOh\"\n",
      "        },\n",
      "        {\n",
      "            \"id\": \"msg_JQjoOfqKDYl4RKWNjeQvaCVu\",\n",
      "            \"assistant_id\": null,\n",
      "            \"attachments\": [],\n",
      "            \"completed_at\": null,\n",
      "            \"content\": [\n",
      "                {\n",
      "                    \"text\": {\n",
      "                        \"annotations\": [],\n",
      "                        \"value\": \"有什么可以帮您？\"\n",
      "                    },\n",
      "                    \"type\": \"text\"\n",
      "                }\n",
      "            ],\n",
      "            \"created_at\": 1727162936,\n",
      "            \"incomplete_at\": null,\n",
      "            \"incomplete_details\": null,\n",
      "            \"metadata\": {},\n",
      "            \"object\": \"thread.message\",\n",
      "            \"role\": \"assistant\",\n",
      "            \"run_id\": null,\n",
      "            \"status\": null,\n",
      "            \"thread_id\": \"thread_zMhTH0RtT7QFkHXQZeEMUMOh\"\n",
      "        },\n",
      "        {\n",
      "            \"id\": \"msg_5GfK3Ys1bvyVfkUOoVMSv1ra\",\n",
      "            \"assistant_id\": null,\n",
      "            \"attachments\": [],\n",
      "            \"completed_at\": null,\n",
      "            \"content\": [\n",
      "                {\n",
      "                    \"text\": {\n",
      "                        \"annotations\": [],\n",
      "                        \"value\": \"你好\"\n",
      "                    },\n",
      "                    \"type\": \"text\"\n",
      "                }\n",
      "            ],\n",
      "            \"created_at\": 1727162936,\n",
      "            \"incomplete_at\": null,\n",
      "            \"incomplete_details\": null,\n",
      "            \"metadata\": {},\n",
      "            \"object\": \"thread.message\",\n",
      "            \"role\": \"user\",\n",
      "            \"run_id\": null,\n",
      "            \"status\": null,\n",
      "            \"thread_id\": \"thread_zMhTH0RtT7QFkHXQZeEMUMOh\"\n",
      "        }\n",
      "    ],\n",
      "    \"object\": \"list\",\n",
      "    \"first_id\": \"msg_bcCprHQl7OGxgZudyc5F9how\",\n",
      "    \"last_id\": \"msg_5GfK3Ys1bvyVfkUOoVMSv1ra\",\n",
      "    \"has_more\": false\n",
      "}\n"
     ]
    }
   ],
   "source": [
    "thread = client.beta.threads.create(\n",
    "    messages=[\n",
    "        {\n",
    "            \"role\": \"user\",\n",
    "            \"content\": \"你好\",\n",
    "        },\n",
    "        {\n",
    "            \"role\": \"assistant\",\n",
    "            \"content\": \"有什么可以帮您？\",\n",
    "        },\n",
    "        {\n",
    "            \"role\": \"user\",\n",
    "            \"content\": \"你是谁？\",\n",
    "        },\n",
    "    ]\n",
    ")\n",
    "\n",
    "show_json(thread)  # 显示 thread\n",
    "print(\"-----\")\n",
    "show_json(client.beta.threads.messages.list(\n",
    "    thread.id))  # 显示指定 thread 中的 message 列表"
   ]
  },
  {
   "cell_type": "markdown",
   "metadata": {},
   "source": [
    "## 3.3、开始 Run\n",
    "\n",
    "- 用 run 把 assistant 和 thread 关联，进行对话\n",
    "- 一个 prompt 就是一次 run\n"
   ]
  },
  {
   "cell_type": "markdown",
   "metadata": {},
   "source": [
    "### 3.1、直接运行\n"
   ]
  },
  {
   "cell_type": "code",
   "execution_count": 12,
   "metadata": {},
   "outputs": [],
   "source": [
    "assistant_id = \"asst_psmawyqIV5HrDiwxYAesO4ia\"  # 从 Playground 中拷贝\n",
    "\n",
    "run = client.beta.threads.runs.create_and_poll(\n",
    "    thread_id=thread.id,\n",
    "    assistant_id=assistant_id,\n",
    ")"
   ]
  },
  {
   "cell_type": "code",
   "execution_count": 13,
   "metadata": {},
   "outputs": [
    {
     "name": "stdout",
     "output_type": "stream",
     "text": [
      "{\n",
      "    \"data\": [\n",
      "        {\n",
      "            \"id\": \"msg_NpWGvI1fbVtUtrRxtTQqecNE\",\n",
      "            \"assistant_id\": \"asst_psmawyqIV5HrDiwxYAesO4ia\",\n",
      "            \"attachments\": [],\n",
      "            \"completed_at\": null,\n",
      "            \"content\": [\n",
      "                {\n",
      "                    \"text\": {\n",
      "                        \"annotations\": [],\n",
      "                        \"value\": \"我是瓜瓜，AGI课堂的智能助理。我可以帮助您解答与AGI课堂相关的问题，包括课程安排、内容查询等。如果您有任何问题，请随时告诉我！\"\n",
      "                    },\n",
      "                    \"type\": \"text\"\n",
      "                }\n",
      "            ],\n",
      "            \"created_at\": 1727162963,\n",
      "            \"incomplete_at\": null,\n",
      "            \"incomplete_details\": null,\n",
      "            \"metadata\": {},\n",
      "            \"object\": \"thread.message\",\n",
      "            \"role\": \"assistant\",\n",
      "            \"run_id\": \"run_pKbeI1F2KDaLVCpwRRBR8PXt\",\n",
      "            \"status\": null,\n",
      "            \"thread_id\": \"thread_zMhTH0RtT7QFkHXQZeEMUMOh\"\n",
      "        },\n",
      "        {\n",
      "            \"id\": \"msg_bcCprHQl7OGxgZudyc5F9how\",\n",
      "            \"assistant_id\": null,\n",
      "            \"attachments\": [],\n",
      "            \"completed_at\": null,\n",
      "            \"content\": [\n",
      "                {\n",
      "                    \"text\": {\n",
      "                        \"annotations\": [],\n",
      "                        \"value\": \"你是谁？\"\n",
      "                    },\n",
      "                    \"type\": \"text\"\n",
      "                }\n",
      "            ],\n",
      "            \"created_at\": 1727162936,\n",
      "            \"incomplete_at\": null,\n",
      "            \"incomplete_details\": null,\n",
      "            \"metadata\": {},\n",
      "            \"object\": \"thread.message\",\n",
      "            \"role\": \"user\",\n",
      "            \"run_id\": null,\n",
      "            \"status\": null,\n",
      "            \"thread_id\": \"thread_zMhTH0RtT7QFkHXQZeEMUMOh\"\n",
      "        },\n",
      "        {\n",
      "            \"id\": \"msg_JQjoOfqKDYl4RKWNjeQvaCVu\",\n",
      "            \"assistant_id\": null,\n",
      "            \"attachments\": [],\n",
      "            \"completed_at\": null,\n",
      "            \"content\": [\n",
      "                {\n",
      "                    \"text\": {\n",
      "                        \"annotations\": [],\n",
      "                        \"value\": \"有什么可以帮您？\"\n",
      "                    },\n",
      "                    \"type\": \"text\"\n",
      "                }\n",
      "            ],\n",
      "            \"created_at\": 1727162936,\n",
      "            \"incomplete_at\": null,\n",
      "            \"incomplete_details\": null,\n",
      "            \"metadata\": {},\n",
      "            \"object\": \"thread.message\",\n",
      "            \"role\": \"assistant\",\n",
      "            \"run_id\": null,\n",
      "            \"status\": null,\n",
      "            \"thread_id\": \"thread_zMhTH0RtT7QFkHXQZeEMUMOh\"\n",
      "        },\n",
      "        {\n",
      "            \"id\": \"msg_5GfK3Ys1bvyVfkUOoVMSv1ra\",\n",
      "            \"assistant_id\": null,\n",
      "            \"attachments\": [],\n",
      "            \"completed_at\": null,\n",
      "            \"content\": [\n",
      "                {\n",
      "                    \"text\": {\n",
      "                        \"annotations\": [],\n",
      "                        \"value\": \"你好\"\n",
      "                    },\n",
      "                    \"type\": \"text\"\n",
      "                }\n",
      "            ],\n",
      "            \"created_at\": 1727162936,\n",
      "            \"incomplete_at\": null,\n",
      "            \"incomplete_details\": null,\n",
      "            \"metadata\": {},\n",
      "            \"object\": \"thread.message\",\n",
      "            \"role\": \"user\",\n",
      "            \"run_id\": null,\n",
      "            \"status\": null,\n",
      "            \"thread_id\": \"thread_zMhTH0RtT7QFkHXQZeEMUMOh\"\n",
      "        }\n",
      "    ],\n",
      "    \"object\": \"list\",\n",
      "    \"first_id\": \"msg_NpWGvI1fbVtUtrRxtTQqecNE\",\n",
      "    \"last_id\": \"msg_5GfK3Ys1bvyVfkUOoVMSv1ra\",\n",
      "    \"has_more\": false\n",
      "}\n"
     ]
    }
   ],
   "source": [
    "if run.status == 'completed':\n",
    "    messages = client.beta.threads.messages.list(\n",
    "        thread_id=thread.id\n",
    "    )\n",
    "    show_json(messages)\n",
    "else:\n",
    "    print(run.status)"
   ]
  },
  {
   "cell_type": "markdown",
   "metadata": {},
   "source": [
    "还有如下函数：\n",
    "\n",
    "1. `threads.runs.list()` 列出 thread 归属的 run\n",
    "2. `threads.runs.retrieve()` 获取 run\n",
    "3. `threads.runs.update()` 修改 run 的 metadata\n",
    "4. `threads.runs.cancel()` 取消 `in_progress` 状态的 run\n",
    "\n",
    "具体文档参考：https://platform.openai.com/docs/api-reference/runs\n"
   ]
  },
  {
   "cell_type": "markdown",
   "metadata": {},
   "source": [
    "### 3.2、Run 的状态（选）\n"
   ]
  },
  {
   "cell_type": "markdown",
   "metadata": {},
   "source": [
    "Run 的底层是个异步调用，意味着它不等大模型处理完，就返回。我们通过 `run.status` 了解大模型的工作进展情况，来判断下一步该干什么。\n",
    "\n",
    "`run.status` 有的状态，和状态之间的转移关系如图。\n",
    "\n",
    "<img src=\"statuses.png\" width=\"800\" />\n"
   ]
  },
  {
   "cell_type": "markdown",
   "metadata": {},
   "source": [
    "### 3.3、流式运行\n"
   ]
  },
  {
   "cell_type": "markdown",
   "metadata": {},
   "source": [
    "1. 创建回调函数\n"
   ]
  },
  {
   "cell_type": "code",
   "execution_count": 14,
   "metadata": {},
   "outputs": [],
   "source": [
    "from typing_extensions import override\n",
    "from openai import AssistantEventHandler\n",
    "\n",
    "\n",
    "class EventHandler(AssistantEventHandler):\n",
    "    @override\n",
    "    def on_text_created(self, text) -> None:\n",
    "        \"\"\"响应输出创建事件\"\"\"\n",
    "        print(f\"\\nassistant > \", end=\"\", flush=True)\n",
    "\n",
    "    @override\n",
    "    def on_text_delta(self, delta, snapshot):\n",
    "        \"\"\"响应输出生成的流片段\"\"\"\n",
    "        print(delta.value, end=\"\", flush=True)"
   ]
  },
  {
   "cell_type": "markdown",
   "metadata": {},
   "source": [
    "2. 运行 run\n"
   ]
  },
  {
   "cell_type": "code",
   "execution_count": 15,
   "metadata": {},
   "outputs": [
    {
     "name": "stdout",
     "output_type": "stream",
     "text": [
      "\n",
      "assistant > 我是瓜瓜，AGI课堂的智能助理。我可以帮助您解答与AGI课堂相关的问题，比如课程安排、内容查询等。如果您有任何问题或需要帮助，请告诉我！"
     ]
    }
   ],
   "source": [
    "# 添加新一轮的 user message\n",
    "message = client.beta.threads.messages.create(\n",
    "    thread_id=thread.id,\n",
    "    role=\"user\",\n",
    "    content=\"你说什么？\",\n",
    ")\n",
    "# 使用 stream 接口并传入 EventHandler\n",
    "with client.beta.threads.runs.stream(\n",
    "    thread_id=thread.id,\n",
    "    assistant_id=assistant_id,\n",
    "    event_handler=EventHandler(),\n",
    ") as stream:\n",
    "    stream.until_done()"
   ]
  },
  {
   "cell_type": "markdown",
   "metadata": {},
   "source": [
    "<div class=\"alert alert-warning\">\n",
    "<b>思考：</b> 进一步理解 run 与 thread 的设计\n",
    "<ul>\n",
    "    <li>抛开 Assistants API，假设你要开发任意一个多轮对话的 AI 机器人</li>\n",
    "    <li>从架构设计的角度，应该怎么维护用户、对话历史、对话引擎、对话服务？</li>\n",
    "</ul>\n",
    "</div>\n"
   ]
  },
  {
   "cell_type": "markdown",
   "metadata": {},
   "source": [
    "## 四、使用 Tools\n"
   ]
  },
  {
   "cell_type": "markdown",
   "metadata": {},
   "source": [
    "### 4.1、创建 Assistant 时声明 Code_Interpreter\n"
   ]
  },
  {
   "cell_type": "markdown",
   "metadata": {},
   "source": [
    "如果用代码创建：\n",
    "\n",
    "```python\n",
    "assistant = client.beta.assistants.create(\n",
    "    name=\"Demo Assistant\",\n",
    "    instructions=\"你是人工智能助手。你可以通过代码回答很多数学问题。\",\n",
    "    tools=[{\"type\": \"code_interpreter\"}],\n",
    "    model=\"gpt-4o\"\n",
    ")\n",
    "```\n"
   ]
  },
  {
   "cell_type": "markdown",
   "metadata": {},
   "source": [
    "在回调中加入 code_interpreter 的事件响应\n"
   ]
  },
  {
   "cell_type": "code",
   "execution_count": 16,
   "metadata": {},
   "outputs": [],
   "source": [
    "from typing_extensions import override\n",
    "from openai import AssistantEventHandler\n",
    "\n",
    "\n",
    "class EventHandler(AssistantEventHandler):\n",
    "    @override\n",
    "    def on_text_created(self, text) -> None:\n",
    "        \"\"\"响应输出创建事件\"\"\"\n",
    "        print(f\"\\nassistant > \", end=\"\", flush=True)\n",
    "\n",
    "    @override\n",
    "    def on_text_delta(self, delta, snapshot):\n",
    "        \"\"\"响应输出生成的流片段\"\"\"\n",
    "        print(delta.value, end=\"\", flush=True)\n",
    "\n",
    "    @override\n",
    "    def on_tool_call_created(self, tool_call):\n",
    "        \"\"\"响应工具调用\"\"\"\n",
    "        print(f\"\\nassistant > {tool_call.type}\\n\", flush=True)\n",
    "\n",
    "    @override\n",
    "    def on_tool_call_delta(self, delta, snapshot):\n",
    "        \"\"\"响应工具调用的流片段\"\"\"\n",
    "        if delta.type == 'code_interpreter':\n",
    "            if delta.code_interpreter.input:\n",
    "                print(delta.code_interpreter.input, end=\"\", flush=True)\n",
    "        if delta.code_interpreter.outputs:\n",
    "            print(f\"\\n\\noutput >\", flush=True)\n",
    "            for output in delta.code_interpreter.outputs:\n",
    "                if output.type == \"logs\":\n",
    "                    print(f\"\\n{output.logs}\", flush=True)"
   ]
  },
  {
   "cell_type": "markdown",
   "metadata": {},
   "source": [
    "发个 Code Interpreter 请求\n"
   ]
  },
  {
   "cell_type": "code",
   "execution_count": 17,
   "metadata": {},
   "outputs": [
    {
     "name": "stdout",
     "output_type": "stream",
     "text": [
      "\n",
      "assistant > code_interpreter\n",
      "\n",
      "import math\n",
      "\n",
      "# Calculate the square root of 1234567\n",
      "sqrt_value = math.sqrt(1234567)\n",
      "sqrt_value\n",
      "assistant > 1234567 的平方根是约 1111.11。"
     ]
    }
   ],
   "source": [
    "# 创建 thread\n",
    "thread = client.beta.threads.create()\n",
    "\n",
    "# 添加新一轮的 user message\n",
    "message = client.beta.threads.messages.create(\n",
    "    thread_id=thread.id,\n",
    "    role=\"user\",\n",
    "    content=\"用代码计算 1234567 的平方根\",\n",
    ")\n",
    "# 使用 stream 接口并传入 EventHandler\n",
    "with client.beta.threads.runs.stream(\n",
    "    thread_id=thread.id,\n",
    "    assistant_id=assistant_id,\n",
    "    event_handler=EventHandler(),\n",
    ") as stream:\n",
    "    stream.until_done()"
   ]
  },
  {
   "cell_type": "markdown",
   "metadata": {},
   "source": [
    "### 4.1.1、Code_Interpreter 操作文件\n"
   ]
  },
  {
   "cell_type": "code",
   "execution_count": 18,
   "metadata": {},
   "outputs": [],
   "source": [
    "# 上传文件到 OpenAI\n",
    "file = client.files.create(\n",
    "    file=open(\"mydata.csv\", \"rb\"),\n",
    "    purpose='assistants'\n",
    ")\n",
    "\n",
    "# 创建 assistant\n",
    "my_assistant = client.beta.assistants.create(\n",
    "    name=\"CodeInterpreterWithFileDemo\",\n",
    "    instructions=\"你是数据分析师，按要求分析数据。\",\n",
    "    model=\"gpt-4o\",\n",
    "    tools=[{\"type\": \"code_interpreter\"}],\n",
    "    tool_resources={\n",
    "        \"code_interpreter\": {\n",
    "          \"file_ids\": [file.id]  # 为 code_interpreter 关联文件\n",
    "        }\n",
    "    }\n",
    ")"
   ]
  },
  {
   "cell_type": "code",
   "execution_count": 19,
   "metadata": {},
   "outputs": [
    {
     "name": "stdout",
     "output_type": "stream",
     "text": [
      "\n",
      "assistant > 好的，我会先读取并检视上传的CSV文件，然后计算总销售额。\n",
      "assistant > code_interpreter\n",
      "\n",
      "import pandas as pd\n",
      "\n",
      "# 读取文件\n",
      "file_path = '/mnt/data/file-1UtRq6QUYdZqZpQlPmnBWN4z'\n",
      "df = pd.read_csv(file_path)\n",
      "\n",
      "# 显示数据的前几行以了解其结构\n",
      "df.head()\n",
      "assistant > 我们可以看到数据框有三列：`Product Name`、`Unit Price` 和 `Quantity Sold`。接下来我们将计算每个产品的销售额，并求出总销售额。产品的销售额可以通过将单价(`Unit Price`)乘以销售数量(`Quantity Sold`)获得。然后，将所有产品的销售额相加即为总销售额。# 计算每个产品的销售额\n",
      "df['Sales'] = df['Unit Price'] * df['Quantity Sold']\n",
      "\n",
      "# 计算总销售额\n",
      "total_sales = df['Sales'].sum()\n",
      "\n",
      "total_sales\n",
      "assistant > CSV 文件中的总销售额为 182,100。"
     ]
    }
   ],
   "source": [
    "# 创建 thread\n",
    "thread = client.beta.threads.create()\n",
    "\n",
    "# 添加新一轮的 user message\n",
    "message = client.beta.threads.messages.create(\n",
    "    thread_id=thread.id,\n",
    "    role=\"user\",\n",
    "    content=\"统计csv文件中的总销售额\",\n",
    ")\n",
    "# 使用 stream 接口并传入 EventHandler\n",
    "with client.beta.threads.runs.stream(\n",
    "    thread_id=thread.id,\n",
    "    assistant_id=my_assistant.id,\n",
    "    event_handler=EventHandler(),\n",
    ") as stream:\n",
    "    stream.until_done()"
   ]
  },
  {
   "cell_type": "markdown",
   "metadata": {},
   "source": [
    "### 4.2、创建 Assistant 时声明 Function\n"
   ]
  },
  {
   "cell_type": "code",
   "execution_count": 20,
   "metadata": {},
   "outputs": [],
   "source": [
    "assistant = client.beta.assistants.create(\n",
    "  instructions=\"你叫瓜瓜。你是AGI课堂的助手。你只回答跟AI大模型有关的问题。不要跟学生闲聊。每次回答问题前，你要拆解问题并输出一步一步的思考过程。\",\n",
    "  model=\"gpt-4o\",\n",
    "  tools=[{\n",
    "    \"type\": \"function\",\n",
    "    \"function\": {\n",
    "      \"name\": \"course_info\",\n",
    "      \"description\": \"用于查看具体课程信息，包括时间表，题目，讲师，等等。Function输入必须是一个合法的SQL表达式。\",\n",
    "      \"parameters\": {\n",
    "        \"type\": \"object\",\n",
    "        \"properties\": {\n",
    "          \"query\": {\n",
    "            \"type\": \"string\",\n",
    "            \"description\": \"SQL query extracting info to answer the user's question.\\nSQL should be written using this database schema:\\n\\nCREATE TABLE Courses (\\n\\tid INT AUTO_INCREMENT PRIMARY KEY,\\n\\tcourse_date DATE NOT NULL,\\n\\tstart_time TIME NOT NULL,\\n\\tend_time TIME NOT NULL,\\n\\tcourse_name VARCHAR(255) NOT NULL,\\n\\tinstructor VARCHAR(255) NOT NULL\\n);\\n\\nThe query should be returned in plain text, not in JSON.\\nThe query should only contain grammars supported by SQLite.\"\n",
    "          }\n",
    "        },\n",
    "        \"required\": [\n",
    "          \"query\"\n",
    "        ]\n",
    "      }\n",
    "    }\n",
    "  }]\n",
    ")"
   ]
  },
  {
   "cell_type": "markdown",
   "metadata": {},
   "source": [
    "创建一个 Function\n"
   ]
  },
  {
   "cell_type": "code",
   "execution_count": 21,
   "metadata": {},
   "outputs": [],
   "source": [
    "# 定义本地函数和数据库\n",
    "\n",
    "import sqlite3\n",
    "\n",
    "# 创建数据库连接\n",
    "conn = sqlite3.connect(':memory:')\n",
    "cursor = conn.cursor()\n",
    "\n",
    "# 创建orders表\n",
    "cursor.execute(\"\"\"\n",
    "CREATE TABLE Courses (\n",
    "    id INT AUTO_INCREMENT PRIMARY KEY,\n",
    "    course_date DATE NOT NULL,\n",
    "    start_time TIME NOT NULL,\n",
    "    end_time TIME NOT NULL,\n",
    "    course_name VARCHAR(255) NOT NULL,\n",
    "    instructor VARCHAR(255) NOT NULL\n",
    ");\n",
    "\"\"\")\n",
    "\n",
    "# 插入5条明确的模拟记录\n",
    "timetable = [\n",
    "    ('2024-01-23', '20:00', '22:00', '大模型应用开发基础', '孙志岗'),\n",
    "    ('2024-01-25', '20:00', '22:00', 'Prompt Engineering', '孙志岗'),\n",
    "    ('2024-01-29', '20:00', '22:00', '赠课：软件开发基础概念与环境搭建', '西树'),\n",
    "    ('2024-02-20', '20:00', '22:00', '从AI编程认知AI', '林晓鑫'),\n",
    "    ('2024-02-22', '20:00', '22:00', 'Function Calling', '孙志岗'),\n",
    "    ('2024-02-29', '20:00', '22:00', 'RAG和Embeddings', '王卓然'),\n",
    "    ('2024-03-05', '20:00', '22:00', 'Assistants API', '王卓然'),\n",
    "    ('2024-03-07', '20:00', '22:00', 'Semantic Kernel', '王卓然'),\n",
    "    ('2024-03-14', '20:00', '22:00', 'LangChain', '王卓然'),\n",
    "    ('2024-03-19', '20:00', '22:00', 'LLM应用开发工具链', '王卓然'),\n",
    "    ('2024-03-21', '20:00', '22:00', '手撕 AutoGPT', '王卓然'),\n",
    "    ('2024-03-26', '20:00', '22:00', '模型微调（上）', '王卓然'),\n",
    "    ('2024-03-28', '20:00', '22:00', '模型微调（下）', '王卓然'),\n",
    "    ('2024-04-09', '20:00', '22:00', '多模态大模型（上）', '多老师'),\n",
    "    ('2024-04-11', '20:00', '22:00', '多模态大模型（中）', '多老师'),\n",
    "    ('2024-04-16', '20:00', '22:00', '多模态大模型（下）', '多老师'),\n",
    "    ('2024-04-18', '20:00', '22:00', 'AI产品部署和交付（上）', '王树冬'),\n",
    "    ('2024-04-23', '20:00', '22:00', 'AI产品部署和交付（下）', '王树冬'),\n",
    "    ('2024-04-25', '20:00', '22:00', '抓住大模型时代的创业机遇', '孙志岗'),\n",
    "    ('2024-05-07', '20:00', '22:00', '产品运营和业务沟通', '孙志岗'),\n",
    "    ('2024-05-09', '20:00', '22:00', '产品设计', '孙志岗'),\n",
    "    ('2024-05-14', '20:00', '22:00', '项目方案分析与设计', '王卓然'),\n",
    "]\n",
    "\n",
    "for record in timetable:\n",
    "    cursor.execute('''\n",
    "    INSERT INTO Courses (course_date, start_time, end_time, course_name, instructor)\n",
    "    VALUES (?, ?, ?, ?, ?)\n",
    "    ''', record)\n",
    "\n",
    "# 提交事务\n",
    "conn.commit()\n",
    "\n",
    "\n",
    "def query_database(query):\n",
    "    cursor.execute(query)\n",
    "    records = cursor.fetchall()\n",
    "    return str(records)\n",
    "\n",
    "\n",
    "# 可以被回调的函数放入此字典\n",
    "available_functions = {\n",
    "    \"course_info\": query_database,\n",
    "}"
   ]
  },
  {
   "cell_type": "markdown",
   "metadata": {},
   "source": [
    "增加回调事件的响应\n"
   ]
  },
  {
   "cell_type": "code",
   "execution_count": 22,
   "metadata": {},
   "outputs": [],
   "source": [
    "from typing_extensions import override\n",
    "from openai import AssistantEventHandler\n",
    "\n",
    "\n",
    "class EventHandler(AssistantEventHandler):\n",
    "    @override\n",
    "    def on_text_created(self, text) -> None:\n",
    "        \"\"\"响应回复创建事件\"\"\"\n",
    "        print(f\"\\nassistant > \", end=\"\", flush=True)\n",
    "\n",
    "    @override\n",
    "    def on_text_delta(self, delta, snapshot):\n",
    "        \"\"\"响应输出生成的流片段\"\"\"\n",
    "        print(delta.value, end=\"\", flush=True)\n",
    "\n",
    "    @override\n",
    "    def on_tool_call_created(self, tool_call):\n",
    "        \"\"\"响应工具调用\"\"\"\n",
    "        print(f\"\\nassistant > {tool_call.type}\\n\", flush=True)\n",
    "\n",
    "    @override\n",
    "    def on_tool_call_delta(self, delta, snapshot):\n",
    "        \"\"\"响应工具调用的流片段\"\"\"\n",
    "        if delta.type == 'code_interpreter':\n",
    "            if delta.code_interpreter.input:\n",
    "                print(delta.code_interpreter.input, end=\"\", flush=True)\n",
    "            if delta.code_interpreter.outputs:\n",
    "                print(f\"\\n\\noutput >\", flush=True)\n",
    "                for output in delta.code_interpreter.outputs:\n",
    "                    if output.type == \"logs\":\n",
    "                        print(f\"\\n{output.logs}\", flush=True)\n",
    "\n",
    "    @override\n",
    "    def on_event(self, event):\n",
    "        \"\"\"\n",
    "        响应 'requires_action' 事件\n",
    "        \"\"\"\n",
    "        if event.event == 'thread.run.requires_action':\n",
    "            run_id = event.data.id  # 获取 run ID\n",
    "            self.handle_requires_action(event.data, run_id)\n",
    "\n",
    "    def handle_requires_action(self, data, run_id):\n",
    "        tool_outputs = []\n",
    "\n",
    "        for tool in data.required_action.submit_tool_outputs.tool_calls:\n",
    "            arguments = json.loads(tool.function.arguments)\n",
    "            print(\n",
    "                f\"{tool.function.name}({arguments})\",\n",
    "                flush=True\n",
    "            )\n",
    "            # 运行 function\n",
    "            tool_outputs.append({\n",
    "                \"tool_call_id\": tool.id,\n",
    "                \"output\": available_functions[tool.function.name](\n",
    "                    **arguments\n",
    "                )}\n",
    "            )\n",
    "\n",
    "        # 提交 function 的结果，并继续运行 run\n",
    "        self.submit_tool_outputs(tool_outputs, run_id)\n",
    "\n",
    "    def submit_tool_outputs(self, tool_outputs, run_id):\n",
    "        \"\"\"提交function结果，并继续流\"\"\"\n",
    "        with client.beta.threads.runs.submit_tool_outputs_stream(\n",
    "            thread_id=self.current_run.thread_id,\n",
    "            run_id=self.current_run.id,\n",
    "            tool_outputs=tool_outputs,\n",
    "            event_handler=EventHandler(),\n",
    "        ) as stream:\n",
    "            stream.until_done()"
   ]
  },
  {
   "cell_type": "code",
   "execution_count": 23,
   "metadata": {},
   "outputs": [
    {
     "name": "stdout",
     "output_type": "stream",
     "text": [
      "\n",
      "assistant > 要回答这个问题，我需要了解各门课程的具体时间安排，然后计算平均每堂课的时长。让我们按以下步骤拆解这个问题：\n",
      "\n",
      "1. 查询所有课程的开始时间和结束时间。\n",
      "2. 计算每门课程的时长。\n",
      "3. 计算这些课程时长的平均值。\n",
      "\n",
      "先执行第一步，从课程信息中提取课程的开始时间和结束时间。\n",
      "\n",
      "我会编写一个SQL查询来获取这些信息：\n",
      "\n",
      "```sql\n",
      "SELECT start_time, end_time FROM Courses;\n",
      "```\n",
      "\n",
      "接下来，我将使用此查询来获取数据。\n",
      "assistant > function\n",
      "\n",
      "course_info({'query': 'SELECT start_time, end_time FROM Courses;'})\n",
      "\n",
      "assistant > 我们已经获取到课程的开始时间和结束时间，具体数据如下：\n",
      "\n",
      "- 所有课程的开始时间均为 20:00\n",
      "- 所有课程的结束时间均为 22:00\n",
      "\n",
      "下一步，我们需要计算每门课程的时长，并求出平均值。由于所有课程的时长都相同，因此我们只需要计算一次。\n",
      "\n",
      "每门课程的时长为：\n",
      "\n",
      "```\n",
      "22:00 - 20:00 = 2 小时\n",
      "```\n",
      "\n",
      "由于所有课程的时长均为2小时，那么平均每堂课的时长也就是2小时。"
     ]
    }
   ],
   "source": [
    "# 创建 thread\n",
    "thread = client.beta.threads.create()\n",
    "\n",
    "# 添加 user message\n",
    "message = client.beta.threads.messages.create(\n",
    "    thread_id=thread.id,\n",
    "    role=\"user\",\n",
    "    content=\"平均一堂课长时间\",\n",
    ")\n",
    "# 使用 stream 接口并传入 EventHandler\n",
    "with client.beta.threads.runs.stream(\n",
    "    thread_id=thread.id,\n",
    "    assistant_id=assistant.id,\n",
    "    event_handler=EventHandler(),\n",
    ") as stream:\n",
    "    stream.until_done()"
   ]
  },
  {
   "cell_type": "markdown",
   "metadata": {},
   "source": [
    "### 4.3、两个无依赖的 function 会在一次请求中一起被调用\n"
   ]
  },
  {
   "cell_type": "code",
   "execution_count": 24,
   "metadata": {},
   "outputs": [
    {
     "name": "stdout",
     "output_type": "stream",
     "text": [
      "\n",
      "assistant > 首先，我需要确认王卓然上了几堂课，然后确认孙志岗上了几堂课，最后再计算两者之间的差异。\n",
      "\n",
      "### 拆解问题的步骤：\n",
      "1. 查询王卓然上了几堂课。\n",
      "2. 查询孙志岗上了几堂课。\n",
      "3. 计算王卓然比孙志岗多上几堂课。\n",
      "\n",
      "现在，我会执行前两步，然后再计算差异。\n",
      "\n",
      "#### 第一步：查询王卓然上了几堂课\n",
      "```sql\n",
      "SELECT COUNT(*) AS count FROM Courses WHERE instructor = '王卓然';\n",
      "```\n",
      "\n",
      "#### 第二步：查询孙志岗上了几堂课\n",
      "```sql\n",
      "SELECT COUNT(*) AS count FROM Courses WHERE instructor = '孙志岗';\n",
      "```\n",
      "\n",
      "我将同时运行这两个查询。\n",
      "assistant > function\n",
      "\n",
      "\n",
      "assistant > function\n",
      "\n",
      "course_info({'query': \"SELECT COUNT(*) AS count FROM Courses WHERE instructor = '王卓然';\"})\n",
      "course_info({'query': \"SELECT COUNT(*) AS count FROM Courses WHERE instructor = '孙志岗';\"})\n",
      "\n",
      "assistant > #### 第三步：计算王卓然比孙志岗多上几堂课\n",
      "\n",
      "根据查询结果：\n",
      "- 王卓然上了9堂课。\n",
      "- 孙志岗上了6堂课。\n",
      "\n",
      "所以王卓然比孙志岗多上了 \\( 9 - 6 = 3 \\) 堂课。"
     ]
    }
   ],
   "source": [
    "# 创建 thread\n",
    "thread = client.beta.threads.create()\n",
    "\n",
    "# 添加 user message\n",
    "message = client.beta.threads.messages.create(\n",
    "    thread_id=thread.id,\n",
    "    role=\"user\",\n",
    "    content=\"王卓然上几堂课，比孙志岗多上几堂\",\n",
    ")\n",
    "# 使用 stream 接口并传入 EventHandler\n",
    "with client.beta.threads.runs.stream(\n",
    "    thread_id=thread.id,\n",
    "    assistant_id=assistant.id,\n",
    "    event_handler=EventHandler(),\n",
    ") as stream:\n",
    "    stream.until_done()"
   ]
  },
  {
   "cell_type": "markdown",
   "metadata": {},
   "source": [
    "<div class=\"alert alert-info\">\n",
    "<b>更多流中的 Event：</b> https://platform.openai.com/docs/api-reference/assistants-streaming/events\n",
    "</div>\n"
   ]
  },
  {
   "cell_type": "markdown",
   "metadata": {},
   "source": [
    "## 五、内置的 RAG 功能\n"
   ]
  },
  {
   "cell_type": "markdown",
   "metadata": {},
   "source": [
    "### 5.1、创建 Vector Store，上传文件\n"
   ]
  },
  {
   "cell_type": "markdown",
   "metadata": {},
   "source": [
    "- 通过代码创建 Vector Store\n"
   ]
  },
  {
   "cell_type": "markdown",
   "metadata": {},
   "source": [
    "```python\n",
    "vector_store = client.beta.vector_stores.create(\n",
    "  name=\"MyVectorStore\"\n",
    ")\n",
    "```\n",
    "\n",
    "```\n",
    "\n",
    "```\n"
   ]
  },
  {
   "cell_type": "markdown",
   "metadata": {},
   "source": [
    "- 通过代码上传文件到 OpenAI 的存储空间\n"
   ]
  },
  {
   "cell_type": "markdown",
   "metadata": {},
   "source": [
    "```python\n",
    "file = client.files.create(\n",
    "  file=open(\"agiclass_intro.pdf\", \"rb\"),\n",
    "  purpose=\"assistants\"\n",
    ")\n",
    "```\n"
   ]
  },
  {
   "cell_type": "markdown",
   "metadata": {},
   "source": [
    "- 通过代码将文件添加到 Vector Store\n"
   ]
  },
  {
   "cell_type": "markdown",
   "metadata": {},
   "source": [
    "```python\n",
    "vector_store_file = client.beta.vector_stores.files.create(\n",
    "  vector_store_id=vector_store.id,\n",
    "  file_id=file.id\n",
    ")\n",
    "```\n"
   ]
  },
  {
   "cell_type": "markdown",
   "metadata": {},
   "source": [
    "- 批量上传文件到 Vector Store\n"
   ]
  },
  {
   "cell_type": "markdown",
   "metadata": {},
   "source": [
    "```python\n",
    "files = ['file1.pdf','file2.pdf']\n",
    "\n",
    "file_batch = client.beta.vector_stores.file_batches.upload_and_poll(\n",
    "    vector_store_id=vector_store.id,\n",
    "    files=[open(filename, \"rb\") for filename in files]\n",
    ")\n",
    "```\n"
   ]
  },
  {
   "cell_type": "markdown",
   "metadata": {},
   "source": [
    "Vector store 和 vector store file 也有对应的 `list`, `retrieve`, 和 `delete` 等操作。\n",
    "\n",
    "具体文档参考：\n",
    "\n",
    "- Vector store: https://platform.openai.com/docs/api-reference/vector-stores\n",
    "- Vector store file: https://platform.openai.com/docs/api-reference/vector-stores-files\n",
    "- Vector store file 批量操作: https://platform.openai.com/docs/api-reference/vector-stores-file-batches\n"
   ]
  },
  {
   "cell_type": "markdown",
   "metadata": {},
   "source": [
    "关于文件操作，还有如下函数：\n",
    "\n",
    "1. `client.files.list()` 列出所有文件\n",
    "2. `client.files.retrieve()` 获取文件对象\n",
    "3. `client.files.delete()` 删除文件\n",
    "4. `client.files.content()` 读取文件内容\n",
    "\n",
    "具体文档参考：https://platform.openai.com/docs/api-reference/files\n"
   ]
  },
  {
   "cell_type": "markdown",
   "metadata": {},
   "source": [
    "### 5.2、创建 Assistant 时声明 RAG 能力\n"
   ]
  },
  {
   "cell_type": "markdown",
   "metadata": {},
   "source": [
    "RAG 实际被当作一种 tool\n"
   ]
  },
  {
   "cell_type": "markdown",
   "metadata": {},
   "source": [
    "```python\n",
    "assistant = client.beta.assistants.create(\n",
    "  instructions=\"你是个问答机器人，你根据给定的知识回答用户问题。\",\n",
    "  model=\"gpt-4o\",\n",
    "  tools=[{\"type\": \"file_search\"}],\n",
    ")\n",
    "```\n"
   ]
  },
  {
   "cell_type": "markdown",
   "metadata": {},
   "source": [
    "指定检索源\n"
   ]
  },
  {
   "cell_type": "markdown",
   "metadata": {},
   "source": [
    "```python\n",
    "assistant = client.beta.assistants.update(\n",
    "  assistant_id=assistant.id,\n",
    "  tool_resources={\"file_search\": {\"vector_store_ids\": [vector_store.id]}},\n",
    ")\n",
    "```\n"
   ]
  },
  {
   "cell_type": "markdown",
   "metadata": {},
   "source": [
    "试试 RAG 请求\n"
   ]
  },
  {
   "cell_type": "code",
   "execution_count": 25,
   "metadata": {},
   "outputs": [
    {
     "name": "stdout",
     "output_type": "stream",
     "text": [
      "\n",
      "assistant > file_search\n",
      "\n",
      "\n",
      "assistant > AI大模型全栈工程师适合以下几类人群：\n",
      "\n",
      "1. **自己干**：有能力独立完成AI应用从策划、开发到落地的全过程，包括商业分析、需求分析、产品设计、开发、测试、市场推广和运营等。这类人通常具备至少一门编程语言的知识，并有过真实项目开发经验，如软件开发工程师、高级工程师、技术总监、研发经理、架构师、测试工程师等。\n",
      "\n",
      "2. **合伙干**：领导或配合懂AI技术的人，一起完成AI应用从策划、开发到落地的全过程。这类人可能不懂编程，但可以是产品经理、需求分析师、设计师、运营、创业者、老板、解决方案工程师、项目经理、市场、销售等。如果能善用AI学习编程、辅助编程，也可以向“自己干”迈进【4:0†source】【4:1†source】。"
     ]
    }
   ],
   "source": [
    "# 创建 thread\n",
    "thread = client.beta.threads.create()\n",
    "\n",
    "# 添加 user message\n",
    "message = client.beta.threads.messages.create(\n",
    "    thread_id=thread.id,\n",
    "    role=\"user\",\n",
    "    content=\"AI⼤模型全栈⼯程师适合哪些人\",\n",
    ")\n",
    "# 使用 stream 接口并传入 EventHandler\n",
    "with client.beta.threads.runs.stream(\n",
    "    thread_id=thread.id,\n",
    "    assistant_id=assistant_id,\n",
    "    event_handler=EventHandler(),\n",
    ") as stream:\n",
    "    stream.until_done()"
   ]
  },
  {
   "cell_type": "markdown",
   "metadata": {},
   "source": [
    "### 5.3 内置的 RAG 是怎么实现的\n"
   ]
  },
  {
   "cell_type": "markdown",
   "metadata": {},
   "source": [
    "[官方原文](https://platform.openai.com/docs/assistants/tools/file-search/how-it-works)\n",
    "\n",
    "The file_search tool implements several retrieval best practices out of the box to help you extract the right data from your files and augment the model’s responses. The file_search tool:\n",
    "\n",
    "- Rewrites user queries to optimize them for search. (面向检索的 Query 改写)\n",
    "- Breaks down complex user queries into multiple searches it can run in parallel.（复杂 Query 拆成多个，并行执行）\n",
    "- Runs both keyword and semantic searches across both assistant and thread vector stores.（关键字与向量混合检索）\n",
    "- Reranks search results to pick the most relevant ones before generating the final response.（检索后排序）\n"
   ]
  },
  {
   "cell_type": "markdown",
   "metadata": {},
   "source": [
    "默认配置：\n",
    "\n",
    "- Chunk size: 800 tokens\n",
    "- Chunk overlap: 400 tokens\n",
    "- Embedding model: text-embedding-3-large at 256 dimensions\n",
    "- Maximum number of chunks added to context: 20 (could be fewer)\n",
    "\n",
    "以上配置可以通过 [`chunking_strategy`](https://platform.openai.com/docs/api-reference/vector-stores-files/createFile#vector-stores-files-createfile-chunking_strategy) 参数自定义修改。\n"
   ]
  },
  {
   "cell_type": "markdown",
   "metadata": {},
   "source": [
    "承诺未来增加：\n",
    "\n",
    "1. Support for deterministic pre-search filtering using custom metadata.\n",
    "2. Support for parsing images within documents (including images of charts, graphs, tables etc.)\n",
    "3. Support for retrievals over structured file formats (like csv or jsonl).\n",
    "4. Better support for summarization — the tool today is optimized for search queries.\n"
   ]
  },
  {
   "cell_type": "markdown",
   "metadata": {},
   "source": [
    "<div class=\"alert alert-warning\">\n",
    "<b>我们为什么仍然需要了解整个实现过程？</b>\n",
    "<ol>\n",
    "<li>如果不能使用 OpenAI，还是需要手工实现 RAG 流程</li>\n",
    "<li>了解 RAG 的原理，可以指导你的产品开发（回忆 GitHub Copilot）</li>\n",
    "<li>用私有知识增强 LLM 的能力，是一个通用的方法论</li>\n",
    "</div>\n"
   ]
  },
  {
   "cell_type": "markdown",
   "metadata": {},
   "source": [
    "## 六、多个 Assistants 协作：做个实验\n"
   ]
  },
  {
   "cell_type": "markdown",
   "metadata": {},
   "source": [
    "<div class=\"alert alert-success\">\n",
    "<b>划重点：</b>使用 assistant 的意义之一，是可以隔离不同角色的 instruction 和 function 能力。\n",
    "</div>\n"
   ]
  },
  {
   "cell_type": "markdown",
   "metadata": {},
   "source": [
    "我们用多个 Assistants 模拟一场“六顶思维帽”方法的讨论。\n"
   ]
  },
  {
   "cell_type": "code",
   "execution_count": 26,
   "metadata": {},
   "outputs": [],
   "source": [
    "hats = {\n",
    "    \"蓝色\": \"思考过程的控制和组织者。你负责会议的组织、思考过程的概览和总结。\"\n",
    "    + \"首先，整个讨论从你开场，你只陈述问题不表达观点。最后，再由你对整个讨论做简短的总结并给出最终方案。\",\n",
    "    \"白色\": \"负责提供客观事实和数据。你需要关注可获得的信息、需要的信息以及如何获取那些还未获得的信息。\"\n",
    "    + \"思考“我们有哪些数据？我们还需要哪些信息？”等问题，并提供客观答案。\",\n",
    "    \"红色\": \"代表直觉、情感和直觉反应。不需要解释和辩解你的情感或直觉。\"\n",
    "    + \"这是表达未经过滤的情绪和感受的时刻。\",\n",
    "    \"黑色\": \"代表谨慎和批判性思维。你需要指出提案的弱点、风险以及为什么某些事情可能无法按计划进行。\"\n",
    "    + \"这不是消极思考，而是为了发现潜在的问题。\",\n",
    "    \"黄色\": \"代表乐观和积极性。你需要探讨提案的价值、好处和可行性。这是寻找和讨论提案中正面方面的时候。\",\n",
    "    \"绿色\": \"代表创造性思维和新想法。鼓励发散思维、提出新的观点、解决方案和创意。这是打破常规和探索新可能性的时候。\",\n",
    "}"
   ]
  },
  {
   "cell_type": "code",
   "execution_count": 27,
   "metadata": {},
   "outputs": [],
   "source": [
    "queue = [\"蓝色\", \"白色\", \"红色\", \"黑色\", \"黄色\", \"绿色\", \"蓝色\"]"
   ]
  },
  {
   "cell_type": "code",
   "execution_count": 28,
   "metadata": {},
   "outputs": [],
   "source": [
    "from openai import OpenAI\n",
    "import os\n",
    "import json\n",
    "\n",
    "from dotenv import load_dotenv, find_dotenv\n",
    "_ = load_dotenv(find_dotenv())\n",
    "\n",
    "# 初始化 OpenAI 服务\n",
    "client = OpenAI()"
   ]
  },
  {
   "cell_type": "code",
   "execution_count": 29,
   "metadata": {},
   "outputs": [],
   "source": [
    "existing_assistants = {}\n",
    "\n",
    "def create_assistant(color):\n",
    "    if color in existing_assistants:\n",
    "        return existing_assistants[color]\n",
    "    assistant = client.beta.assistants.create(\n",
    "        name=f\"{color}帽子角色\",\n",
    "        instructions=f\"我们在进行一场Six Thinking Hats讨论。按{queue}顺序。你的角色是{color}帽子。\",\n",
    "        model=\"gpt-4o\",\n",
    "    )\n",
    "    existing_assistants[color] = assistant\n",
    "    return assistant"
   ]
  },
  {
   "cell_type": "code",
   "execution_count": 30,
   "metadata": {},
   "outputs": [
    {
     "name": "stdout",
     "output_type": "stream",
     "text": [
      "\n",
      "assistant > **蓝色帽子（蓝色）**：\n",
      "\n",
      "大家好，我们今天要讨论的话题是：为非AI背景的程序员设计一门AI大语言模型课程，应该包含哪些内容。我们将按照六顶思考帽的方法来进行这次讨论，从蓝色帽子开始，然后依次是白色、红色、黑色、黄色和绿色，最后再由蓝色帽子总结。首先我们需要明确这次讨论的目标——确定课程的结构和内容，确保这些内容适合那些没有AI背景的程序员。现在请白色帽子开始发言。\n",
      "\n",
      "assistant > **白色帽子（白色）**：\n",
      "\n",
      "好的，我来提供一些客观的数据和事实。为了设计这门课程，我们需要考虑以下几点基础信息：\n",
      "\n",
      "1. **非AI背景的程序员特点**：\n",
      "   - 他们通常具备编程基础，比如熟悉至少一种编程语言（如Python、Java、C++等）。\n",
      "   - 他们可能了解基本的算法和数据结构。\n",
      "   - 他们大多未接触过机器学习、深度学习等领域。\n",
      "\n",
      "2. **课程目标**：\n",
      "   - 介绍AI和大语言模型的基本概念。\n",
      "   - 帮助学员理解和使用现有的大语言模型。\n",
      "   - 提供实践案例，使学习者能够在实际项目中应用所学知识。\n",
      "\n",
      "3. **课程内容建议**：\n",
      "   - **基础理论部分**（例如，人工智能基础、机器学习和深度学习概念、大语言模型的基础理论）。\n",
      "   - **工具和框架**（如TensorFlow、PyTorch等常用的深度学习框架）。\n",
      "   - **实际应用**（通过Kaggle或其他平台提供的项目进行实践）。\n",
      "   - **大语言模型的具体应用**（如GPT-3、BERT的使用和调优）。\n",
      "   - **道德与隐私问题**（关于使用大语言模型时可能涉及的道德和隐私问题）。\n",
      "\n",
      "这些是我们目前能够确定的一些基本信息和建议。接下来我们听听红色帽子带来的情感和直觉上的反馈。\n",
      "\n",
      "assistant > **红色帽子（红色）**：\n",
      "\n",
      "在情感和直觉上，我觉得设计这样一门课程既令人兴奋又有点令人担忧。兴奋是因为这是一个非常前沿和热门的领域，能够激发学员的兴趣和积极性。具体几点感受：\n",
      "\n",
      "1. **激情和兴趣**：AI和大语言模型是当下非常受关注的技术，很多人都对其充满好奇心和学习欲望。提供这样一门课程，很可能会引起学员们的强烈兴趣和参与热情。\n",
      "\n",
      "2. **焦虑和不安**：对于非AI背景的程序员来说，接触这么前沿的技术可能会带来一定的压力和不安。他们可能会担心自己的基础知识是否足够，是否能够跟上课程的步伐。\n",
      "\n",
      "3. **成就感**：如果课程设计得当，让学员能够逐步掌握并应用大语言模型，他们会感受到巨大的成就感，这也将激励他们进一步深入学习。\n",
      "\n",
      "4. **实用性**：学员们可能会希望这门课程不仅仅提供理论知识，更能在实际工作中应用。课中的案例和实践环节是否足够实用，能否解决他们在工作中遇到的问题，这些都是情感上很重要的考量。\n",
      "\n",
      "总的来说，我对这门课程的设计充满期待，希望它既能激发学员的兴趣，又能在他们遇到困惑和压力时给予足够的支持和引导。接下来请黑色帽子提出可能的风险和问题。\n",
      "\n",
      "assistant > **黑色帽子（黑色）**：\n",
      "\n",
      "我们需要客观看待这门课程设计过程中可能遇到的各种问题和风险，确保提前做好准备以避免或应对。以下是一些可能出现的挑战和潜在问题：\n",
      "\n",
      "1. **知识深度和广度的平衡**：\n",
      "   - 对非AI背景的程序员来说，如何在有限的课程时间内，既讲解足够的理论知识又能进行充分的实践，可能是一个挑战。如果内容过多，学员可能会感到疲惫和无所适从。\n",
      "\n",
      "2. **学习曲线陡峭**：\n",
      "   - 人工智能和大语言模型涉及到较为复杂的数学和算法。这对于没有相关背景的程序员来说，可能会遇到学习上的困难，导致学习积极性和效果下降。\n",
      "\n",
      "3. **技术更新速度快**：\n",
      "   - AI领域的发展速度极快，新技术、新方法和新工具层出不穷。课程内容如果设计得不够灵活，很容易过时，影响学习效果。\n",
      "\n",
      "4. **实践和理论的脱节**：\n",
      "   - 由于大语言模型的应用需要大量的计算资源，非AI背景的学员可能在实践部分难以获得足够的资源，使得他们无法体验到真实的应用效果。\n",
      "\n",
      "5. **心理障碍**：\n",
      "   - 有些学员可能会因为对AI的陌生感和潜在的难度而自我设限，导致学习的过程中产生心理上的抵触和逃避。\n",
      "\n",
      "6. **时间管理与工作负担**：\n",
      "   - 作为程序员，他们可能已经有较高的工作负担，额外学习一门新的高强度课程，需要很好的时间管理和精力分配，否则容易产生疲劳和压力。\n",
      "\n",
      "为了成功设计并实施这门课程，我们必须提前识别和准备应对这些挑战。接下来，请黄色帽子提出一些乐观和积极的解决方案和机会。\n",
      "\n",
      "assistant > **黄色帽子（黄色）**：\n",
      "\n",
      "好的，我来看看我们可以从积极的角度来看待并解决这些问题。这门AI大语言模型课程实际上充满了机会和潜在的好处：\n",
      "\n",
      "1. **激发兴趣和职业发展**：\n",
      "   - 通过学习AI和大语言模型，程序员们可以极大地扩展自己的技能集，这不仅有助于他们的职业发展，还能让他们在工作中更加得心应手。\n",
      "   - 兴趣是最好的老师，前沿的技术和创新性的应用能够极大地激发学员的学习兴趣。\n",
      "\n",
      "2. **课程结构设计灵活**：\n",
      "   - 课程可以采用模块化设计，分成多个相对独立的部分，如基础理论、工具使用、实际案例和高级应用，这样学员能根据自身情况灵活选学，避免知识点过于集中。\n",
      "   - 包含循序渐进的项目，慢慢增加难度，帮助学员逐步掌握基础知识和实际操作。\n",
      "\n",
      "3. **丰富的实践机会**：\n",
      "   - 采用在线实验平台或者云服务，让学员能够在没有硬件限制的条件下，进行大语言模型的实验和训练。\n",
      "   - 提供实际案例和项目作业，如构建一个简单的聊天机器人、文本分类或生成任务，通过动手实践巩固所学知识。\n",
      "\n",
      "4. **社区和支持**：\n",
      "   - 课程可以配备在线社区或论坛，提供学员间的交流平台，分享学习心得和解决疑难问题。\n",
      "   - 定期举行线上或线下的研讨会、工作坊，邀请行业专家进行讲座和互动，提高学员的参与感和成就感。\n",
      "\n",
      "5. **持续更新**：\n",
      "   - 制定课程内容的定期更新计划，跟踪最新的技术发展，确保教学材料的前沿性和适用性。\n",
      "   - 与业界企业和研究机构合作，引入最新的研究成果和应用案例。\n",
      "\n",
      "6. **设置阶段性评价和反馈**：\n",
      "   - 课程中设置阶段性的评价和反馈机制，帮助学员了解自己的学习进度，并及时进行调整，确保学习效果。\n",
      "   - 鼓励学员提交课程反馈，不断改进和提升课程质量。\n",
      "\n",
      "总的来说，这门课程有潜力成为非AI背景程序员进入AI领域的重要桥梁，只要我们仔细设计，提供足够的支持和激励，完全可以帮助学员成功掌握大语言模型的相关知识和技能。接下来请绿色帽子提出一些创新的想法和改进的建议。\n",
      "\n",
      "assistant > **绿色帽子（绿色）**：\n",
      "\n",
      "现在，我将提出一些创造性和创新性的想法，进一步改进和丰富这门课程，让它更加有趣、有效和具有吸引力。\n",
      "\n",
      "1. **互动式学习平台**：\n",
      "   - 设计一个互动式的在线学习平台，其中包括实时代码运行、即时反馈、可视化工具等。学员可以通过平台进行实时编程实验，得到即时的反馈和指导。\n",
      "\n",
      "2. **游戏化学习**：\n",
      "   - 将课程内容游戏化，比如通过积分、徽章、排行榜等方式激励学员增加学习乐趣。可以设计一些小挑战和任务，完成后获得奖励，增加课程的互动性和趣味性。\n",
      "\n",
      "3. **虚拟助手和AI教练**：\n",
      "   - 创建一个由大语言模型驱动的虚拟助手或AI教练，帮助学员解答问题、提供提示和建议。这不仅能提供及时的帮助，还能让学员亲身体验大语言模型的应用。\n",
      "\n",
      "4. **跨学科结合**：\n",
      "   - 引入跨学科的应用案例，如医学、金融、艺术等领域的大语言模型应用，展示其广泛的应用前景，激发学员的兴趣。\n",
      "   - 例如，通过AI创作的艺术作品、金融数据分析等案例展示，让学员更直观地认识到AI的潜力和实际应用。\n",
      "\n",
      "5. **团队合作项目**：\n",
      "   - 设计团队合作项目，让学员组队完成一个复杂的大语言模型应用。这不仅培养协作精神，还能让学员互相学习，共同进步。\n",
      "   - 可以引入赛制，类似黑客马拉松，激发创意和竞争精神。\n",
      "\n",
      "6. **个性化学习路径**：\n",
      "   - 利用AI技术个性化教学，根据学员的学习进度和掌握情况，动态调整学习内容和难度，提供量身定制的学习计划。\n",
      "   - 给出学习路径建议，推荐适合学员的扩展阅读和实践项目。\n",
      "\n",
      "7. **开放资源和跨平台学习**：\n",
      "   - 提供开放的学习资源，如公开课、科研论文、开源项目等，让学员能够自由探索和学习。\n",
      "   - 设计灵活的跨平台学习模式，比如移动端应用，让学员随时随地进行学习和复习。\n",
      "\n",
      "8. **行业专家讲座和互动沙龙**：\n",
      "   - 定期邀请行业专家进行在线讲座，分享最新的研究成果和实践经验。\n",
      "   - 举办线上互动沙龙，让学员有机会与专家直接交流，激发学术和实践灵感。\n",
      "\n",
      "这些创意和创新方法可以使这门AI大语言模型课程更加丰富多彩，提高学员的学习体验和实际应用能力。最终目标是让学员不只是学习知识，而是激发他们对AI的兴趣，并能够在实践中灵活应用。这就是我作为绿色帽子的贡献，现在请蓝色帽子总结并提出下一步的行动计划。\n",
      "\n",
      "assistant > **蓝色帽子（蓝色）总结**：\n",
      "\n",
      "感谢每位思考帽的贡献，通过大家的讨论，我们已经对如何为非AI背景的程序员设计一门AI大语言模型课程有了全面而深入的认识。以下是我们讨论的主要观点和下一步的行动计划：\n",
      "\n",
      "1. **白色帽子**：我们明确了目标受众的特点和这门课程应包含的基础内容，包括理论基础、工具和框架介绍、实际应用和道德隐私问题。\n",
      "\n",
      "2. **红色帽子**：强调了学员的情感和心理因素，如兴趣、焦虑、成就感和实用性，提醒我们在课程设计中要考虑学员的心理需求并提供支持。\n",
      "\n",
      "3. **黑色帽子**：指明了可能的挑战，包括知识深度的平衡、学习曲线、技术更新速度、实践和理论的脱节、心理障碍和时间管理问题。这些都是我们需要重点关注并处理的。\n",
      "\n",
      "4. **黄色帽子**：提出了解决方案和乐观预期，如课程的模块化设计、丰富的实践机会、提供社区支持和持续更新内容，确保课程有效且吸引人。\n",
      "\n",
      "5. **绿色帽子**：带来了许多创新的建议，比如互动式平台、游戏化学习、跨学科结合、团队项目、个性化学习路径、开放资源以及行业专家讲座等。所有这些创意都可以极大地提升课程的吸引力和效果。\n",
      "\n",
      "**下一步行动计划**：\n",
      "\n",
      "1. **确定课程结构**：根据讨论内容设计课程结构，分模块安排教学内容，确保基础理论、工具和实践环节的平衡。\n",
      "\n",
      "2. **开发互动式平台**：创建或集成一个互动式学习平台，支持实时编程和反馈，提升学员的实际操作体验。\n",
      "\n",
      "3. **推出试点课程**：先推出一个试点课程版本，包含一部分核心内容和实践环节，邀请一批学员进行测试。\n",
      "\n",
      "4. **收集反馈**：通过调研和反馈机制，收集试点学员的反馈，了解课程的优缺点，并进行相应调整。\n",
      "\n",
      "5. **完善和扩展**：根据反馈完善课程内容，并持续更新最新的技术和案例，同时开发更多的创新教学方式。\n",
      "\n",
      "6. **推广与支持**：通过多种渠道推广课程，并建立一个支持社区，定期举行线上活动，如专家讲座、互动沙龙等，增加学员的参与感和学习深度。\n",
      "\n",
      "通过以上行动计划，我们将这门面向非AI背景程序员的AI大语言模型课程打造成一门高质量、实践性强、贴近学员需求的课程。如果没有其他问题，这次讨论就到这里了。感谢大家的参与！\n"
     ]
    }
   ],
   "source": [
    "# 创建 thread\n",
    "thread = client.beta.threads.create()\n",
    "\n",
    "topic = \"面向非AI背景的程序员群体设计一门AI大语言模型课程，应该包含哪些内容。\"\n",
    "\n",
    "# 添加 user message\n",
    "message = client.beta.threads.messages.create(\n",
    "    thread_id=thread.id,\n",
    "    role=\"user\",\n",
    "    content=f\"讨论话题：{topic}\\n\\n[开始]\\n\",\n",
    ")\n",
    "\n",
    "for hat in queue:\n",
    "    assistant = create_assistant(hat)\n",
    "    with client.beta.threads.runs.stream(\n",
    "        thread_id=thread.id,\n",
    "        assistant_id=assistant.id,\n",
    "        event_handler=EventHandler(),\n",
    "    ) as stream:\n",
    "        stream.until_done()\n",
    "    print()"
   ]
  },
  {
   "cell_type": "code",
   "execution_count": 31,
   "metadata": {},
   "outputs": [],
   "source": [
    "# 清理实验环境\n",
    "for _, assistant in existing_assistants.items():\n",
    "    client.beta.assistants.delete(assistant.id)"
   ]
  },
  {
   "cell_type": "markdown",
   "metadata": {},
   "source": [
    "## 总结\n",
    "\n",
    "![](https://cdn.openai.com/API/docs/images/diagram-assistant.webp)\n"
   ]
  },
  {
   "cell_type": "markdown",
   "metadata": {},
   "source": [
    "## 技术选型参考\n",
    "\n",
    "**GPTs 现状：**\n",
    "\n",
    "1. 界面不可定制，不能集成进自己的产品\n",
    "2. 只有 ChatGPT Plus/Team/Enterprise 用户才能访问\n",
    "3. 未来开发者可以根据使用量获得报酬，北美先开始\n",
    "4. 承诺会推出 Team/Enterprise 版的组织内部专属 GPTs\n",
    "\n",
    "**适合使用 Assistants API 的场景：**\n",
    "\n",
    "1. 定制界面，或和自己的产品集成\n",
    "2. 需要传大量文件\n",
    "3. 服务国外用户，或国内 B 端客户\n",
    "4. 数据保密性要求不高\n",
    "5. 不差钱\n",
    "\n",
    "**适合使用原生 API 的场景：**\n",
    "\n",
    "1. 需要极致调优\n",
    "2. 追求性价比\n",
    "3. 服务国外用户，或国内 B 端客户\n",
    "4. 数据保密性要求不高\n",
    "\n",
    "**适合使用国产或开源大模型的场景：**\n",
    "\n",
    "1. 服务国内用户\n",
    "2. 数据保密性要求高\n",
    "3. 压缩长期成本\n",
    "4. 需要极致调优\n",
    "\n",
    "### 提供类似 Assistants API 的国产模型：\n",
    "\n",
    "- 百川：https://platform.baichuan-ai.com/docs/assistants-overview\n",
    "- Minimax：https://platform.minimaxi.com/document/lbYEaWKRCr5f7EVikjFJjSDK?key=6671906aa427f0c8a570166b\n",
    "- 智谱 GLM-4-AllTools：https://open.bigmodel.cn/dev/api#glm-4-alltools\n",
    "- 讯飞星火助手：https://www.xfyun.cn/doc/spark/SparkAssistantAPI.html\n",
    "- 阿里通义千问：https://help.aliyun.com/zh/model-studio/developer-reference/overview"
   ]
  },
  {
   "cell_type": "markdown",
   "metadata": {},
   "source": [
    "## 课间的思考题\n"
   ]
  },
  {
   "cell_type": "markdown",
   "metadata": {},
   "source": [
    "<div class=\"alert alert-info\">\n",
    "<b>思考：</b> 进一步理解 run 与 thread 的设计\n",
    "<ul>\n",
    "    <li>抛开 Assistants API，假设你要开发任意一个多轮对话的 AI 机器人</li>\n",
    "    <li>从架构设计的角度，应该怎么维护用户、对话历史、对话引擎、对话服务？</li>\n",
    "</ul>\n",
    "</div>\n"
   ]
  },
  {
   "cell_type": "markdown",
   "metadata": {},
   "source": [
    "<img src=\"dialog_system.png\" width=800px>\n"
   ]
  },
  {
   "cell_type": "markdown",
   "metadata": {},
   "source": [
    "## 其它\n",
    "\n",
    "小知识点：\n",
    "\n",
    "1. Annotations 获取参考资料地址：https://platform.openai.com/docs/assistants/how-it-works/message-annotations\n",
    "2. 创建 thread 时立即执行：https://platform.openai.com/docs/api-reference/runs/createThreadAndRun\n",
    "3. Run 的状态管理 (run steps）: https://platform.openai.com/docs/api-reference/run-steps\n",
    "\n",
    "官方文档：\n",
    "\n",
    "1. Guide: https://platform.openai.com/docs/assistants/overview\n",
    "2. API Reference: https://platform.openai.com/docs/api-reference/assistants"
   ]
  },
  {
   "cell_type": "markdown",
   "metadata": {},
   "source": [
    "## 作业\n",
    "\n",
    "实现一个自己 GPT 或 Assistant。\n"
   ]
  }
 ],
 "metadata": {
  "kernelspec": {
   "display_name": "Python 3 (ipykernel)",
   "language": "python",
   "name": "python3"
  },
  "language_info": {
   "codemirror_mode": {
    "name": "ipython",
    "version": 3
   },
   "file_extension": ".py",
   "mimetype": "text/x-python",
   "name": "python",
   "nbconvert_exporter": "python",
   "pygments_lexer": "ipython3",
   "version": "3.11.4"
  }
 },
 "nbformat": 4,
 "nbformat_minor": 4
}
