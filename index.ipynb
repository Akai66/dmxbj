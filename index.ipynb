{
 "cells": [
  {
   "cell_type": "markdown",
   "metadata": {},
   "source": [
    "# 大模型应用开发基础\n",
    "\n",
    "## 💡 这节课会带给你\n",
    "\n",
    "1. AGI 时代的个人发展\n",
    "2. 大模型能做什么\n",
    "3. 大模型落地现状\n",
    "4. 大模型的通俗原理\n",
    "5. 大模型应用架构\n",
    "\n",
    "开始上课！\n"
   ]
  },
  {
   "cell_type": "markdown",
   "metadata": {},
   "source": [
    "## 迎接 AGI 时代\n",
    "\n",
    "AGI（Artificial General Intelligence）中文译为「通用人工智能」。是具备超越人类智能的 AI。\n",
    "\n",
    "实现 AGI 是所有 AI 核心厂商的共同目标。其他人的期望：\n",
    "\n",
    "- 在过程中能抓住一些机会\n",
    "- 在 AGI 到来后成为获益者\n",
    "\n",
    "AGI 多久会到来？\n",
    "\n",
    "- 乐观预测：明年\n",
    "- 主流预测：3-5 年（OpenAI、DeepMind、NVIDIA 持此观点）\n",
    "- 悲观预测：10 年\n",
    "\n",
    "AGI 时代，AI 无处不在，形成新的社会分层：\n",
    "\n",
    "1. **AI 产品使用者**，使用别人开发的 AI 产品\n",
    "2. **AI 产品制造者**，设计和开发 AI 产品，哪怕只是满足自己的需求\n",
    "3. **基础模型相关**，训练基础大模型，或为大模型提供基础设施（算力等）\n",
    "\n",
    "越向下层，重要性越高，从业人数越少。\n",
    "\n",
    "<div class=\"alert alert-warning\">\n",
    "<b>思考：</b>你想在哪一层？\n",
    "</div>\n",
    "\n",
    "本课程目标是帮你抢先成为 **AI 产品制造者**，因为：\n",
    "\n",
    "1. 使用者人人都是，不稀缺\n",
    "2. 基础模型相关门槛特别高，机会特别难遇到。比如：全球做基础大模型训练的，只需要不超过 2000 人\n"
   ]
  },
  {
   "cell_type": "markdown",
   "metadata": {},
   "source": [
    "## AI 产品制造者的核心能力模型\n",
    "\n",
    "三懂：\n",
    "\n",
    "1. **懂业务**，就是懂用户、懂客户、懂需求、懂市场、懂运营、懂商业模式，**懂怎么赚钱**\n",
    "2. **懂 AI**，就是懂 AI 能做什么，不能做什么，怎样才能做得更好、更快、更便宜，**懂怎么用 AI 解决赚钱过程中的问题**\n",
    "3. **懂编程**，就是懂如何编写代码实现一个符合业务需求的产品，**尤其是 AI 产品**\n",
    "\n",
    "争取三懂，至少两懂，无论如何要懂 AI。所以有三种人：\n",
    "\n",
    "1. **AI 全栈工程师**：懂业务、懂 AI、懂编程\n",
    "2. **业务向**：懂业务、懂 AI\n",
    "3. **编程向**：懂编程、懂 AI\n",
    "\n",
    "建议：\n",
    "\n",
    "1. 编程向的，要尽可能靠近业务，争取全栈，否则走不远\n",
    "2. 业务向的，试试学编程，自主性更强。AI 编程，门槛已经低多了（但绝不是没门槛）\n",
    "\n",
    "学什么呢？在下图中找到自己的地盘。\n",
    "\n",
    "<img src=\"structure.png\" width=600px>\n"
   ]
  },
  {
   "cell_type": "markdown",
   "metadata": {},
   "source": [
    "## 怎样学好这门课\n"
   ]
  },
  {
   "cell_type": "markdown",
   "metadata": {},
   "source": [
    "这门课的目标，是培养「AI 全栈」。\n",
    "\n",
    "- 「全栈」涉及的知识面非常广，区区一门课不可能全部涉及\n",
    "- 我们能做到的是，在各个方向上都为大家打开一扇门，带大家入门\n",
    "- 想走得更深更远，要靠大家自己，我们的社群，和 AI 的进化。\n",
    "\n",
    "「入门」并不等于简单、肤浅。我们的课程会在三个方向发力：\n",
    "\n",
    "1. **原理**：不懂原理就不会举一反三，走不了太远。\n",
    "2. **实践**：不懂实践就只能纸上谈兵，做事不落地。\n",
    "3. **认知**：认知不高就无法做对决策，天花板太低。\n",
    "\n",
    "这三样，都是「干货」。\n",
    "\n",
    "<div class=\"alert alert-success\">\n",
    "<p><b>强烈提醒！</b>大模型时代，代码<b>不再是</b>干货！</p>\n",
    "<p>目前，行业共识是：</p>\n",
    "<ol>\n",
    "<li>确定未来 - AI 必然重构世界</li>\n",
    "<li>确定进入 - 想收获红利，必须马上进入</li>\n",
    "<li>落地关键在业务 - AI 相关的代码只是很薄的一层</li>\n",
    "</ol>\n",
    "</div>\n"
   ]
  },
  {
   "cell_type": "markdown",
   "metadata": {},
   "source": [
    "## 学习取舍\n",
    "\n",
    "[课程大纲](https://agiclass.feishu.cn/docx/KjFSdqxTZoDDfcxzikHcjjx0nDg)的内容，想 AI 全栈就都要学透。业务向和编程向的，可以有所取舍。\n",
    "\n",
    "| 模块         | 课节                           | 业务向   | 编程向   | AI 全栈  |\n",
    "| ------------ | ------------------------------ | -------- | -------- | -------- |\n",
    "| 一、初阶应用 | 01 大模型应用开发基础          | **学透** | **学透** | **学透** |\n",
    "|              | 02 Prompt Engineering          | **学透** | **学透** | **学透** |\n",
    "|              | 03 Function Calling            | 了解     | **学透** | **学透** |\n",
    "|              | 04 从 AI 编程认知 AI           | **学透** | **学透** | **学透** |\n",
    "| 二、高阶应用 | 05 RAG 和 Embeddings           | 了解     | **学透** | **学透** |\n",
    "|              | 06 Assistants API              | 了解     | 了解     | 了解     |\n",
    "|              | 07 LlamaIndex                  | 熏陶     | **学透** | **学透** |\n",
    "|              | 08 LangChain                   | 熏陶     | **学透** | **学透** |\n",
    "|              | 09 LLM 应用开发工具链          | 了解     | **学透** | **学透** |\n",
    "|              | 10 手撕 Agent 实现 AutoGPT     | 熏陶     | **学透** | **学透** |\n",
    "|              | 11 工作流                      | 了解     | **学透** | **学透** |\n",
    "| 三、模型训练 | 12 神经网络与 Transformer 详解 | 了解     | **学透** | **学透** |\n",
    "|              | 13-14 模型微调                 | 熏陶     | **学透** | **学透** |\n",
    "|              | 15 Agent 模型微调              | 熏陶     | **学透** | **学透** |\n",
    "|              | 16-17 多模态大模型             | 了解     | **学透** | **学透** |\n",
    "|              | 18 视觉生成模型                | 了解     | **学透** | **学透** |\n",
    "| 四、商业闭环 | 19-20 AI 产品部署和交付        | 了解     | **学透** | **学透** |\n",
    "|              | 21 大模型时代的创业机遇        | **学透** | 了解     | **学透** |\n",
    "|              | 22 产品设计                    | **学透** | 了解     | **学透** |\n",
    "|              | 23 产品运营                    | **学透** | 了解     | **学透** |\n",
    "| 五、项目综合 | 24 技术方案咨询答疑            | 了解     | **学透** | **学透** |\n",
    "|              | 25 优秀项目路演                | **学透** | **学透** | **学透** |\n",
    "\n",
    "- 学习历程，就是一个 AI 应用从无到有、从简单到复杂、从研发到市场的过程\n",
    "- 编程向，且对大模型了解较少的，课程获得感最强\n",
    "- 编程向，但对大模型已经有一定了解的，学起来会轻松一些，但要关注信息增量\n",
    "- 业务向，不调整好预期，学起来会很吃力\n",
    "\n",
    "下面正式进入课程！\n"
   ]
  },
  {
   "cell_type": "markdown",
   "metadata": {
    "id": "1nOf4rvQ13si"
   },
   "source": [
    "## 什么是 AI？\n",
    "\n",
    "<img src=\"./ai-timeline.png\" style=\"margin-left: 0px\" width=\"800px\">\n",
    "\n",
    "> 「深蓝」的创造者许峰雄曾和孙志岗面对面说过：「AI is bullshit。深蓝没用任何 AI 算法，就是硬件穷举棋步。」\n",
    "\n",
    "<div class=\"alert alert-warning\">\n",
    "<b>思考：</b>「智能冰箱」是 AI 吗？\n",
    "</div>\n",
    "\n",
    "一种观点：基于机器学习、神经网络的是 AI，基于规则、搜索的不是 AI。\n"
   ]
  },
  {
   "cell_type": "markdown",
   "metadata": {
    "id": "1nOf4rvQ13si"
   },
   "source": [
    "## 大模型 AI 能干什么？\n",
    "\n",
    "大模型，全称「大语言模型」，英文「Large Language Model」，缩写「LLM」。\n",
    "\n",
    "现在，已经不需要再演示了。每人应该都至少和下面一个基于大模型的对话产品，对话过至少 100 次。\n",
    "\n",
    "| 国家 | 公司      | 对话产品  | 旗舰大模型 | 网址                                                                   |\n",
    "| ---- | --------- | --------- | ---------- | ---------------------------------------------------------------------- |\n",
    "| 美国 | OpenAI    | ChatGPT   | GPT        | [https://chatgpt.com/](https://chatgpt.com/)                           |\n",
    "| 美国 | Microsoft | Copilot   | GPT 和未知 | [https://copilot.microsoft.com/](https://copilot.microsoft.com/)       |\n",
    "| 美国 | Google    | Gemini    | Gemini     | [https://gemini.google.com/](https://gemini.google.com/)               |\n",
    "| 美国 | Anthropic | Claude    | Claude     | [https://claude.ai/](https://claude.ai/) ，公认不输甚至超过 GPT 的     |\n",
    "| 中国 | 百度      | 文心一言  | 文心       | [https://yiyan.baidu.com/](https://yiyan.baidu.com/)                   |\n",
    "| 中国 | 阿里云    | 通义千问  | 通义千问   | [https://tongyi.aliyun.com/qianwen](https://tongyi.aliyun.com/qianwen) |\n",
    "| 中国 | 智谱 AI   | 智谱清言  | GLM        | [https://chatglm.cn/](https://chatglm.cn/)                             |\n",
    "| 中国 | 月之暗面  | Kimi Chat | Moonshot   | [https://kimi.moonshot.cn/](https://kimi.moonshot.cn/)                 |\n",
    "| 中国 | MiniMax   | 星野      | abab       | [https://www.xingyeai.com/](https://www.xingyeai.com/)                 |\n",
    "| 中国 | 深度探索  | deepseek  | DeepSeek   | [https://chat.deepseek.com/](https://chat.deepseek.com/)               |\n",
    "\n",
    "本课第一个专业向要求：分清**对话产品**和**大模型**。\n",
    "\n",
    "<div class=\"alert alert-warning\">\n",
    "<b>建议：</b>\n",
    "<ul>\n",
    "<li>要有一个访问国外的「通道」，否则无法有顶级体验</li>\n",
    "<li>如果不能访问 ChatGPT，不是 ChatGPT Plus 会员，会非常遗憾</li>\n",
    "<li><a href=\"https://copilot.microsoft.com/\">Microsoft Copilot</a> 是 ChatGPT 免费平替，用的也是宇宙最强 GPT-4o 大模型</li>\n",
    "</ul>\n",
    "</div>\n",
    "\n",
    "注册 ChatGPT、Copilot 教程：https://agiclass.feishu.cn/wiki/EztTwL9wniRVXXkW8itcvdyFnhc#WoscdWth9oM7YHxGZvecxH4Snhc\n",
    "\n",
    "但是，千万别以为大模型只是聊天机器人。它的能量，远不止于此。\n"
   ]
  },
  {
   "cell_type": "markdown",
   "metadata": {
    "id": "1nOf4rvQ13si"
   },
   "source": [
    "### 按格式输出\n",
    "\n",
    "<img src=\"./gpt-ner.png\" style=\"margin-left: 0px\">\n",
    "\n",
    "### 分类\n",
    "\n",
    "<img src=\"./gpt-classification.png\" style=\"margin-left: 0px\" width=600px>\n",
    "\n",
    "### 聚类\n",
    "\n",
    "<img src=\"./gpt-clustering.png\" style=\"margin-left: 0px\" width=600px>\n",
    "\n",
    "### 持续互动\n",
    "\n",
    "<img src=\"./gpt-decision.png\" style=\"margin-left: 0px\" width=600px>\n",
    "\n",
    "### 技术相关问题\n",
    "\n",
    "<img src=\"./gpt-plan.png\" style=\"margin-left: 0px\" width=600px>\n"
   ]
  },
  {
   "cell_type": "markdown",
   "metadata": {
    "id": "1nOf4rvQ13si"
   },
   "source": [
    "### 可能一切问题，都能解决，所以是通用人工智能 AGI\n",
    "\n",
    "用 AI，要用「用人思维」：\n",
    "\n",
    "- 机器思维：研发了什么功能，就有什么功能。\n",
    "- 用人思维：给 ta 一个任务，总会有些反馈，或好或坏，惊喜或惊吓。\n",
    "\n",
    "<div class=\"alert alert-success\">\n",
    "<b>划重点：</b>\n",
    "<ol>\n",
    "<li>大模型就是一个函数，给输入，<b>生成</b>输出</li>\n",
    "<li>任何可以用语言描述的问题，都可以输入文本给大模型，就能<b>生成</b>问题的结果文本</li>\n",
    "<li>进而，任意数据，都可以输入给大模型，<b>生成</b>任意数据</li>\n",
    "</ol>\n",
    "</div>\n",
    "\n",
    "英伟达 CEO 黄仁勋 2024 年 6 月 2 日在 Computex 上的演讲提到各种模态数据的统一支持：\n",
    "\n",
    "![NIM](./nim.webp)\n"
   ]
  },
  {
   "cell_type": "markdown",
   "metadata": {},
   "source": [
    "## 大模型落地情况综述\n",
    "\n",
    "《2024 年 9 月之大模型落地现状》\n",
    "\n",
    "作者：孙志岗\n",
    "\n",
    "```\n",
    "Killer App 没有影，\n",
    "AI 原生待证明。\n",
    "手握场景不着急，\n",
    "内部提效暗暗行。\n",
    "```\n",
    "\n",
    "注：2023 年 7 月，孙志岗就[预言了这种情况](https://mp.weixin.qq.com/s?__biz=MzAwNDk3NjUxMg==&mid=2247484056&idx=1&sn=492221e1f8039b3cd48a52c2b18b1f94&chksm=9b22f877ac557161fc606ad25eee4e661183bf076f2349a62f8bd99417c324cb801a6f896cad#rd)。\n"
   ]
  },
  {
   "cell_type": "markdown",
   "metadata": {},
   "source": [
    "### Killer App 没有影\n",
    "\n",
    "- AI 没有创造新的使用场景，只是旧场景的增强，所以没有 Killer App 的土壤\n",
    "- 可以乐观期待 Killer App，但别苦苦追求\n",
    "- 请忽略一切张嘴就是 Killer App 的人\n"
   ]
  },
  {
   "cell_type": "markdown",
   "metadata": {},
   "source": [
    "### AI 原生待证明\n",
    "\n",
    "**AI 原生**，是指产品的核心功能是 AI，而不是 AI 作为辅助功能。典型特点是，有 AI 后才出现。\n",
    "\n",
    "- 助手类，打不过 Siri 们\n",
    "  - [ChatGPT](https://chatgpt.com)\n",
    "  - [Kimi Chat](https://kimi.moonshot.cn)\n",
    "  - [文心一言](https://yiyan.baidu.com)\n",
    "  - [通义千问](https://tongyi.aliyun.com/qianwen)\n",
    "  - [智谱清言](https://chatglm.cn)\n",
    "  - ……\n",
    "- 搜索类，谷歌百度不会袖手旁观\n",
    "  - [Perplexity](https://perplexity.ai)\n",
    "  - [秘塔 AI](https://metaso.cn/)\n",
    "  - [Devv](https://devv.ai/)\n",
    "- 情感陪伴类，社交巨头正谨慎观察\n",
    "  - [Character.AI](https://character.ai)（已被 Google 人才收购）\n",
    "  - [星野](https://www.xingyeai.com/)\n",
    "  - [Replika](https://replika.ai)\n",
    "- 定制 Agent，基本已证明商业模式不成立\n",
    "  - [ChatGPT GPTs](https://chatgpt.com/gpts)\n",
    "  - [扣子](https://www.coze.cn)\n",
    "  - [Dify](https://dify.ai)\n"
   ]
  },
  {
   "cell_type": "markdown",
   "metadata": {},
   "source": [
    "### 手握场景不着急\n",
    "\n",
    "大玩家毫不落后，AI 带来的市场格局变化不大。\n",
    "\n",
    "- 拍照答题\n",
    "  - [Gauth](https://www.gauthmath.com/)\n",
    "  - [Question AI](https://www.questionai.com/)\n",
    "- 英语学习\n",
    "  - [多邻国](https://www.duolingo.cn/)\n",
    "  - [有道 Hi Echo](https://hiecho.youdao.com/)\n",
    "- 图像处理\n",
    "  - [美图秀秀](https://xiuxiu.meitu.com/)\n",
    "  - [Adobe Firefly](https://www.adobe.com/products/firefly.html)\n",
    "- 办公\n",
    "  - [WPS AI](https://ai.wps.cn/)\n",
    "  - [Copilot for Microsoft 365](https://adoption.microsoft.com/en-us/copilot/)\n",
    "  - [钉钉魔法棒](https://alidocs.dingtalk.com/i/p/Pl2AmoVbakq8Xdb9BpLmk7jYdkVEvm2g)\n",
    "  - [飞书智能伙伴](https://www.feishu.cn/product/ai_companion)\n",
    "  - [腾讯会议智能助手](https://meeting.tencent.com/ai/)\n",
    "- 编程\n",
    "  - [GitHub Copilot](https://github.com/features/copilot/)\n",
    "- 全家桶\n",
    "  - Google\n",
    "  - Microsoft\n",
    "  - 字节跳动\n"
   ]
  },
  {
   "cell_type": "markdown",
   "metadata": {},
   "source": [
    "### 内部提效暗暗行\n",
    "\n",
    "很多企业将大模型和业务相结合，取得了或大或小的效果\n",
    "\n",
    "- 营销\n",
    "  - AI 做营销创意，人再加工\n",
    "  - AI 批量生产营销素材\n",
    "  - 多语言翻译\n",
    "- 客服/销售\n",
    "  - 全 AI，适合本来没人做，AI 来补位\n",
    "  - 半 AI，适合本来有人做，AI 来提效\n",
    "- 办公\n",
    "  - 公文撰写/总结/翻译\n",
    "  - 知识库\n",
    "    - 内部客服\n",
    "    - 辅助决策\n",
    "  - 情报分析\n",
    "  - BI\n",
    "- 产品研发\n",
    "  - 创意、头脑风暴\n",
    "  - IT 研发提效\n"
   ]
  },
  {
   "cell_type": "markdown",
   "metadata": {},
   "source": [
    "## 怎样寻找落地方向\n",
    "\n",
    "- 当下，阻碍大模型落地的最大障碍是没有形成认知对齐。\n",
    "- 促进各行业各角色的认知对齐，是 [AGIClass.ai](https://agiclass.ai) 的使命之一。\n"
   ]
  },
  {
   "cell_type": "markdown",
   "metadata": {},
   "source": [
    "### 成功落地大模型五要素\n",
    "\n",
    "来自公众号文章[《复盘大模型的一次成功落地，代替了百万年薪的人》](https://mp.weixin.qq.com/s?__biz=MzAwNDk3NjUxMg==&mid=2247484174&idx=1&sn=ce1bed131385fd9bf71bc9ffa3bd5592&chksm=9b22f9e1ac5570f721ac2480d7010607139aa7ba5d95a604be44d32c790fd911d2f91bc0e21c#rd)。将本文转给老板有奇效。\n",
    "\n",
    "<div class=\"alert alert-success\">\n",
    "<b>成功落地大模型五要素</b>：\n",
    "<ol>\n",
    "<li>业务人员的积极</li>\n",
    "<li>对 AI 能力的认知</li>\n",
    "<li>业务团队自带编程能力</li>\n",
    "<li>小处着手</li>\n",
    "<li>老板的耐心</li>\n",
    "</ol>\n",
    "</div>\n",
    "\n",
    "### 如何找到落地场景\n",
    "\n",
    "<div class=\"alert alert-success\">\n",
    "<b>找落地场景的思路：</b>\n",
    "<ol>\n",
    "<li>从最熟悉的领域入手</li>\n",
    "<li>尽量找能用语言描述的任务</li>\n",
    "<li>别求大而全。将任务拆解，先解决小任务、小场景</li>\n",
    "<li>让 AI 学最厉害员工的能力，再让 ta 辅助其他员工，实现降本增效</li>\n",
    "</ol>\n",
    "</div>\n",
    "\n",
    "<div class=\"alert alert-warning\">\n",
    "<b>思考：</b>你的业务中，有哪些问题可能 AI 能解决？\n",
    "</div>\n"
   ]
  },
  {
   "cell_type": "markdown",
   "metadata": {},
   "source": [
    "### 工作机会在哪里？\n",
    "\n",
    "首先要知道：纯大模型岗位几乎是不存在的。\n",
    "\n",
    "可选：\n",
    "\n",
    "1. 独立开发者/创业\n",
    "2. 有科技属性的公司几乎所有岗位\n",
    "3. 传统企业跑通 AI 工作流，找全栈工程师定制化开发\n"
   ]
  },
  {
   "cell_type": "markdown",
   "metadata": {
    "id": "1nOf4rvQ13si"
   },
   "source": [
    "## 大模型是怎样工作的？\n",
    "\n",
    "### 通俗原理\n",
    "\n",
    "其实，它只是根据上文，猜下一个词（的概率）……\n",
    "\n",
    "<img src=\"./lm-autoregressive.gif\" style=\"margin-left: 0px\">\n"
   ]
  },
  {
   "cell_type": "markdown",
   "metadata": {
    "id": "1nOf4rvQ13si"
   },
   "source": [
    "OpenAI 的接口名就叫「completion」，也证明了其只会「生成」的本质。\n",
    "\n",
    "下面用程序演示「生成下一个字」。你可以自己修改 prompt 试试。还可以使用相同的 prompt 运行多次。\n"
   ]
  },
  {
   "cell_type": "code",
   "execution_count": 1,
   "metadata": {
    "scrolled": true
   },
   "outputs": [
    {
     "name": "stdout",
     "output_type": "stream",
     "text": [
      "开心，\n",
      "因为我很期待明天\n",
      "明天是个全新的一天\n",
      "有数不尽的可能性等着我\n",
      "我可以充满激情地迎接新的挑战\n",
      "我可以抓住每一次机会\n",
      "让自己变得更强大\n",
      "我可以满怀希望地面对未来\n",
      "相信自己能够实现梦想\n",
      "今天的快乐会成为明天的动力\n",
      "让我更加勇敢地追求美好的生活\n",
      "无论遇到什么困难\n",
      "我都会坚持不懈\n",
      "勇敢前行，努力奋斗\n",
      "因为明天的希望就在前方\n",
      "我相信明天会更加美好\n",
      "所以今天，我感到无比幸福和满足。"
     ]
    }
   ],
   "source": [
    "from openai import OpenAI\n",
    "\n",
    "from dotenv import load_dotenv, find_dotenv\n",
    "_ = load_dotenv(find_dotenv())\n",
    "\n",
    "client = OpenAI()\n",
    "\n",
    "prompt = \"今天我很\"  # 改我试试\n",
    "# prompt = \"下班了，今天我很\"\n",
    "# prompt = \"放学了，今天我很\"\n",
    "# prompt = \"AGI 实现了，今天我很\"\n",
    "response = client.completions.create(\n",
    "    model=\"gpt-3.5-turbo-instruct\",\n",
    "    prompt=prompt,\n",
    "    max_tokens=512,\n",
    "    stream=True\n",
    ")\n",
    "\n",
    "for chunk in response:\n",
    "    print(chunk.choices[0].text, end='')"
   ]
  },
  {
   "cell_type": "markdown",
   "metadata": {},
   "source": [
    "### 略深一点的通俗原理\n",
    "\n",
    "**训练**和**推理**是大模型工作的两个核心过程。\n",
    "\n",
    "用人类比，训练就是学，推理就是用。学以致用，如是也。\n",
    "\n",
    "例如，有下面训练数据：\n",
    "\n",
    "1. AI 正在改变我们的生活方式。\n",
    "2. **AI 技术在医疗领域有广泛应用。**\n",
    "3. AI 可以提高企业的生产效率。\n",
    "4. AI 算法能够预测市场趋势。\n",
    "5. AI 在自动驾驶汽车中扮演重要角色。\n",
    "6. AI 有助于个性化教育的发展。\n",
    "7. AI 机器人可以执行复杂的任务。\n",
    "8. **AI 技术正在推动智能家居的普及。**\n",
    "9. AI 在金融分析中发挥着关键作用。\n",
    "10. **AI 技术正逐步应用于艺术创作。**\n",
    "\n",
    "「AI」之后出现「技」的概率大于其它字。这些字之间的概率关系，就是大模型训练时学到的。\n",
    "\n",
    "用不严密但通俗的语言描述原理：\n",
    "\n",
    "<div class=\"alert alert-success\">\n",
    "训练：\n",
    "<ol>\n",
    "<li>大模型阅读了人类说过的所有的话。这就是「<b>机器学习</b>」</li>\n",
    "<li>训练过程会把不同 token 同时出现的概率存入「<b>神经网络</b>」文件。保存的数据就是「<b>参数</b>」，也叫「<b>权重</b>」</li>\n",
    "</ol>\n",
    "</div>\n",
    "\n",
    "<div class=\"alert alert-success\">\n",
    "推理：\n",
    "<ol>\n",
    "<li>我们给<b>推理程序</b>若干 token，程序会加载大模型权重，算出概率最高的下一个 token 是什么</li>\n",
    "<li>用生成的 token，再加上上文，就能继续生成下一个 token。以此类推，生成更多文字</li>\n",
    "</ol>\n",
    "</div>\n",
    "\n",
    "Token 是什么？\n",
    "\n",
    "1. 可能是一个英文单词，也可能是半个，三分之一个\n",
    "2. 可能是一个中文词，或者一个汉字，也可能是半个汉字，甚至三分之一个汉字\n",
    "3. 大模型在开训前，需要先训练一个 tokenizer 模型。它能把所有的文本，切成 token\n",
    "\n",
    "<div class=\"alert alert-warning\">\n",
    "<b>思考：</b>\n",
    "<ol>\n",
    "<li>AI 做对的事，怎么用这个原理解释？</li>\n",
    "<li>AI 的幻觉，一本正经地胡说八道，怎么用这个原理解释？</li>\n",
    "</ol>\n",
    "</div>\n"
   ]
  },
  {
   "cell_type": "markdown",
   "metadata": {},
   "source": [
    "### 再深一点点\n",
    "\n",
    "- 这套生成机制的内核叫「Transformer 架构」\n",
    "- Transformer 是目前人工智能领域最广泛流行的架构，被用在各个领域\n",
    "- Transformer 仍是主流，但并不是最先进的\n",
    "\n",
    "| 架构                     | 设计者                                               | 特点                                     | 链接                                                                                                   |\n",
    "| ------------------------ | ---------------------------------------------------- | ---------------------------------------- | ------------------------------------------------------------------------------------------------------ |\n",
    "| Transformer              | Google                                               | 最流行，几乎所有大模型都用它             | [OpenAI 的代码](https://github.com/openai/finetune-transformer-lm/blob/master/train.py)                |\n",
    "| RWKV                     | [PENG Bo](https://www.zhihu.com/people/bopengbopeng) | 可并行训练，推理性能极佳，适合在端侧使用 | [官网](https://www.rwkv.com/)、[RWKV 5 训练代码](https://github.com/BlinkDL/RWKV-LM/tree/main/RWKV-v5) |\n",
    "| Mamba                    | CMU & Princeton                                      | 性能更佳，尤其适合长文本生成             | [GitHub](https://github.com/state-spaces/mamba)                                                        |\n",
    "| Test-Time Training (TTT) | Stanford, UC San Diego, UC Berkeley & Meta AI        | 速度更快，长上下文更佳                   | [GitHub](https://github.com/test-time-training)                                                        |\n",
    "\n",
    "目前只有 transformer 被证明了符合 scaling-law。\n",
    "\n",
    "更多细节，在模块三《模型训练》中展开。\n"
   ]
  },
  {
   "cell_type": "markdown",
   "metadata": {},
   "source": [
    "## 用好 AI 的核心心法\n",
    "\n",
    "OpenAI 首席科学家 Ilya Sutskever 说过：\n",
    "\n",
    "> 数字神经网络和人脑的生物神经网络，在数学原理上是一样的。\n",
    "\n",
    "所以，我们要：\n",
    "\n",
    "<div class=\"alert alert-success\">\n",
    "把 AI 当人看<br>\n",
    "把 AI 当人看<br>\n",
    "把 AI 当人看\n",
    "</div>\n",
    "\n",
    "凯文·凯利在和孙志岗交流时，说了类似的观点：「和人怎么相处，就和 AI 怎么相处。」\n",
    "\n",
    "1. 用「当人看」来理解 AI\n",
    "2. 用「当人看」来控制 AI\n",
    "3. 用「当人看」来说服别人正确看待 AI 的不足\n",
    "\n",
    "当什么人呢？\n",
    "\n",
    "1. 学习时当老师\n",
    "2. 工作时当助手\n",
    "3. 休闲时当朋友\n",
    "\n",
    "这是贯彻整门课的心法，乃至我们与 AI 相伴的人生的心法。\n",
    "\n",
    "<div class=\"alert alert-success\">\n",
    "<b>划重点：</b>使用大模型，首先要建立对象感。你是什么角色？Ta 是什么角色？\n",
    "</div>\n",
    "\n",
    "<div class=\"alert alert-warning\">\n",
    "<b>课堂实验：</b>你提个 AI 相关问题，我来用人类比\n",
    "</div>\n"
   ]
  },
  {
   "cell_type": "markdown",
   "metadata": {},
   "source": [
    "## 大模型应用产品架构\n",
    "\n",
    "<img src=\"./business_arch.webp\" style=\"margin-left: 0px\" width=700px>\n",
    "\n",
    "Agent 模式还太超前，Copilot 是当前主流。\n",
    "\n",
    "实现 Copilot 的主流架构是**多 Agent 工作流**\n",
    "\n",
    "- 模仿人做事，将业务拆成工作流（workflow、SOP、pipeline）\n",
    "- 每个 Agent 负责一个工作流节点\n",
    "\n",
    "模块二《高阶应用》尾声会专门探讨工作流。\n"
   ]
  },
  {
   "cell_type": "markdown",
   "metadata": {},
   "source": [
    "## 大模型应用技术架构\n",
    "\n",
    "<div class=\"alert alert-success\">\n",
    "大模型应用技术特点：<strong>门槛低，天花板高。</strong>\n",
    "</div>\n",
    "\n",
    "### 纯 Prompt\n",
    "\n",
    "- Prompt 是操作大模型的唯一接口\n",
    "- 当人看：你说一句，ta 回一句，你再说一句，ta 再回一句……\n",
    "\n",
    "<img src=\"./prompt_arch.png\" style=\"margin-left: 0px\" width=300px>\n"
   ]
  },
  {
   "cell_type": "markdown",
   "metadata": {},
   "source": [
    "#### Agent + Function Calling\n",
    "\n",
    "- Agent：AI 主动提要求\n",
    "- Function Calling：AI 要求执行某个函数\n",
    "- 当人看：你问 ta「我明天去杭州出差，要带伞吗？」，ta 让你先看天气预报，你看了告诉 ta，ta 再告诉你要不要带伞\n",
    "\n",
    "<img src=\"./func_arch.png\" style=\"margin-left: 0px\" width=600px>\n"
   ]
  },
  {
   "cell_type": "markdown",
   "metadata": {},
   "source": [
    "#### RAG（Retrieval-Augmented Generation）\n",
    "\n",
    "- Embeddings：把文字转换为更易于相似度计算的编码。这种编码叫**向量**\n",
    "- 向量数据库：把向量存起来，方便查找\n",
    "- 向量搜索：根据输入向量，找到最相似的向量\n",
    "- 当人看：考试答题时，到书上找相关内容，再结合题目组成答案，然后，就都忘了\n",
    "\n",
    "<img src=\"./embeddings_arch.png\" style=\"margin-left: 0px\" width=700px>\n"
   ]
  },
  {
   "cell_type": "markdown",
   "metadata": {},
   "source": [
    "#### Fine-tuning（精调/微调）\n",
    "\n",
    "当人看：努力学习考试内容，长期记住，活学活用。\n",
    "\n",
    "<img src=\"./tech_arch.png\" style=\"margin-left: 0px\" width=700px>\n"
   ]
  },
  {
   "cell_type": "markdown",
   "metadata": {},
   "source": [
    "### 如何选择技术路线\n"
   ]
  },
  {
   "cell_type": "markdown",
   "metadata": {},
   "source": [
    "面对一个需求，如何开始，如何选择技术方案？下面是个不严谨但常用思路。\n",
    "\n",
    "其中最容易被忽略的，是**准备测试数据**\n",
    "\n",
    "<img src=\"./tech_solution.png\" style=\"margin-left: 0px\" width=700px>\n",
    "\n",
    "值得尝试 Fine-tuning 的情况：\n",
    "\n",
    "1. 提高模型输出的稳定性\n",
    "2. 用户量大，降低推理成本的意义很大\n",
    "3. 提高大模型的生成速度\n",
    "4. 需要私有部署\n"
   ]
  },
  {
   "cell_type": "markdown",
   "metadata": {},
   "source": [
    "### 如何选择基础模型\n",
    "\n",
    "凡是问「哪个大模型最好？」的，都是不懂的。\n",
    "\n",
    "不妨反问：「有无论做什么，都表现最好的员工吗？」\n",
    "\n",
    "<div class=\"alert alert-success\">\n",
    "<b>划重点：</b>没有最好的大模型，只有最适合的大模型\n",
    "</div>\n",
    "\n",
    "基础模型选型，合规和安全是首要考量因素。\n",
    "\n",
    "| 需求             | 国外闭源大模型 | 国产闭源大模型 | 开源大模型 |\n",
    "| ---------------- | -------------- | -------------- | ---------- |\n",
    "| 国内 2C          | 🛑             | ✅             | ✅         |\n",
    "| 国内 2G          | 🛑             | ✅             | ✅         |\n",
    "| 国内 2B          | ✅             | ✅             | ✅         |\n",
    "| 出海             | ✅             | ✅             | ✅         |\n",
    "| 数据安全特别重要 | 🛑             | 🛑             | ✅         |\n",
    "\n",
    "然后用测试数据，在可以选择的模型里，做测试，找出最合适的。\n",
    "\n",
    "为什么不要依赖榜单？\n",
    "\n",
    "- 榜单已被应试教育污染。唯一还算值得相信的榜单：[LMSYS Chatbot Arena Leaderboard](https://chat.lmsys.org/?leaderboard)\n",
    "- 榜单体现的是整体能力。放到一件具体事情上，排名低的可能反倒更好\n",
    "- 榜单体现不出成本差异\n"
   ]
  },
  {
   "cell_type": "markdown",
   "metadata": {},
   "source": [
    "AI 全栈课程主要以 OpenAI 为例，少量介绍国产大模型，微调会用开源大模型。因为：\n",
    "\n",
    "1. OpenAI 最流行，即便国内也是如此\n",
    "2. OpenAI 最先进\n",
    "3. 其它模型都在追赶和模仿 OpenAI\n",
    "   - 学会 OpenAI，其它模型触类旁通\n",
    "   - 反之，不一定\n"
   ]
  },
  {
   "cell_type": "markdown",
   "metadata": {
    "id": "1nOf4rvQ13si"
   },
   "source": [
    "## 体验编程调用 OpenAI API\n",
    "\n",
    "本课程主打语言是 Python，因为：\n",
    "\n",
    "1. Python 和 AI 是天生一对\n",
    "2. Python 是最容易学习的编程语言\n",
    "\n",
    "### 安装 OpenAI Python 库\n",
    "\n",
    "在命令行执行：\n",
    "\n",
    "```bash\n",
    "pip install --upgrade openai\n",
    "```\n"
   ]
  },
  {
   "cell_type": "markdown",
   "metadata": {},
   "source": [
    "### 发一条消息\n",
    "\n",
    "体验给大模型注入新知识的代码竟如此简单。\n"
   ]
  },
  {
   "cell_type": "code",
   "execution_count": 2,
   "metadata": {},
   "outputs": [
    {
     "name": "stdout",
     "output_type": "stream",
     "text": [
      "不，上课安排在每周二和周四。周末没有课程安排。\n"
     ]
    }
   ],
   "source": [
    "from openai import OpenAI\n",
    "\n",
    "# 加载 .env 文件到环境变量\n",
    "from dotenv import load_dotenv, find_dotenv\n",
    "_ = load_dotenv(find_dotenv())\n",
    "\n",
    "# 初始化 OpenAI 服务。会自动从环境变量加载 OPENAI_API_KEY 和 OPENAI_BASE_URL\n",
    "client = OpenAI()\n",
    "\n",
    "# 消息\n",
    "messages = [\n",
    "    {\n",
    "        \"role\": \"system\",\n",
    "        \"content\": \"你是AI助手小瓜，是 AGIClass.ai 的助教。这门课每周二、四上课。\"  # 注入新知识\n",
    "    },\n",
    "    {\n",
    "        \"role\": \"user\",\n",
    "        \"content\": \"周末上课吗？\"  # 问问题。可以改改试试\n",
    "    },\n",
    "\n",
    "]\n",
    "\n",
    "# 调用 GPT-4o-mini 模型\n",
    "chat_completion = client.chat.completions.create(\n",
    "    model=\"gpt-4o-mini\",\n",
    "    messages=messages\n",
    ")\n",
    "\n",
    "# 输出回复\n",
    "print(chat_completion.choices[0].message.content)"
   ]
  },
  {
   "cell_type": "markdown",
   "metadata": {},
   "source": [
    "## 作业\n",
    "\n",
    "能正常使用 ChatGPT 或 Microsoft Copilot 至少之一。教程在课程使用手册中：https://a.agiclass.ai/\n"
   ]
  }
 ],
 "metadata": {
  "colab": {
   "provenance": [],
   "toc_visible": true
  },
  "kernelspec": {
   "display_name": "Python 3 (ipykernel)",
   "language": "python",
   "name": "python3"
  },
  "language_info": {
   "codemirror_mode": {
    "name": "ipython",
    "version": 3
   },
   "file_extension": ".py",
   "mimetype": "text/x-python",
   "name": "python",
   "nbconvert_exporter": "python",
   "pygments_lexer": "ipython3",
   "version": "3.12.5"
  }
 },
 "nbformat": 4,
 "nbformat_minor": 4
}
